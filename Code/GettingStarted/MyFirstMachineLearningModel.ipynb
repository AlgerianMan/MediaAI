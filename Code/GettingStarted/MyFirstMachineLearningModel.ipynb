{
 "cells": [
  {
   "cell_type": "markdown",
   "metadata": {},
   "source": [
    "This notebook is designed as one's first machine learning experiment. We will load and visualize a dataset of human heights and weights, and use a simple model to predict weight from height.\n",
    "\n",
    "**After you've familiarized yourself with this notebook, try to modify it as follows:**\n",
    "* Easy: predict height from weight\n",
    "* Harder: Add data normalization: subtract the mean and divide by standard deviation. You can use Numpy's mean and std functions. This will greatly improve optimization speed, because the initial network weight are much closer to optimal. It's a good rule of thumb that a neural network's inputs should have approximately zero mean and unit standard deviation.\n",
    "\n",
    "*Model solutions can be found in [this notebook](MyFirstMachineLearningModel_solutions.ipynb).*\n",
    "\n",
    "Let's start by including some basic utilities. Most of the time, you're going to need Numpy, PyPlot, and Tensorflow or PyTorch. We also import Keras because it makes building and training basic neural networks easy.\n",
    "\n",
    "For a bit more complex but similar example, see https://www.tensorflow.org/tutorials/keras/basic_classification"
   ]
  },
  {
   "cell_type": "code",
   "execution_count": 1,
   "metadata": {
    "collapsed": true
   },
   "outputs": [],
   "source": [
    "import numpy as np\n",
    "import matplotlib.pyplot as pp\n",
    "import os\n",
    "os.environ[\"CUDA_VISIBLE_DEVICES\"]=\"-1\" #disable Tensorflow GPU usage, a simple example like this runs faster on CPU\n",
    "import tensorflow as tf\n",
    "from tensorflow import keras  "
   ]
  },
  {
   "cell_type": "markdown",
   "metadata": {},
   "source": [
    "Now, let's load some data to process. We'll use the human height and weight dataset from Kaggle, which is in .csv format. This is a common and perhaps the most simple data format -- try opening it in a text editor. Loading .csv using Numpy is easy.\n",
    "\n",
    "Note that we skip one row which has the headers, and we only extract the second and third column (the usecols argument uses zero-based indexing)."
   ]
  },
  {
   "cell_type": "code",
   "execution_count": 2,
   "metadata": {
    "collapsed": false
   },
   "outputs": [
    {
     "name": "stdout",
     "output_type": "stream",
     "text": [
      "[[ 73.84701702 241.89356318]\n",
      " [ 68.78190405 162.31047252]\n",
      " [ 74.11010539 212.74085556]\n",
      " ...\n",
      " [ 63.86799221 128.47531878]\n",
      " [ 69.03424313 163.85246135]\n",
      " [ 61.94424588 113.64910268]]\n"
     ]
    }
   ],
   "source": [
    "data=np.loadtxt(\"data/weight-height.csv\",skiprows=1,usecols=(1,2),delimiter=\",\")\n",
    "print(data)"
   ]
  },
  {
   "cell_type": "markdown",
   "metadata": {},
   "source": [
    "When printing the data, we see that it is a 2D-array or 'tensor'. Machine learning typically utilizes tensors to store and manipulate data. Numpy is the basic package for manipulating tensors on the CPU, and Tensorflow and PyTorch allow one to do the same on the GPU, with some additional features.\n",
    "\n",
    "** IMPORTANT: Becoming fluent in thinking and coding with tensors takes time but is extremely vital.** \n",
    "\n",
    "Let's investigate the data a bit more.\n",
    "\n",
    "For example, each tensor has a shape: an 1D array that tells about the tensor dimensions. We can also query the number of dimensions with ndim(). The number of dimensions is also called the \"rank\" of the tensor. In linear algebra terms, a scalar is a rank-0 tensor, a vector is a rank-1 tensor, and a matrix is a rank-2 tensor.\n",
    "\n",
    "However, in Numpy and Tensorflow, A\\*B multiplies the tensors A and B elementwise, and if A and B are vectors, one can use np.dot(A,B) to compute the dot product."
   ]
  },
  {
   "cell_type": "code",
   "execution_count": 3,
   "metadata": {
    "collapsed": false
   },
   "outputs": [
    {
     "name": "stdout",
     "output_type": "stream",
     "text": [
      "Data shape  (10000, 2) , dimensionality  2\n"
     ]
    }
   ],
   "source": [
    "print(\"Data shape \",data.shape,\", dimensionality \",np.ndim(data))"
   ]
  },
  {
   "cell_type": "markdown",
   "metadata": {},
   "source": [
    "In other words, there's 10000 data points, each with 2 values. The tensor is a 2D one. In this dataset, the first value is height and the second is weight."
   ]
  },
  {
   "cell_type": "markdown",
   "metadata": {},
   "source": [
    "Numpy allows very flexible indexing of tensors. One can define exact indexes or use \":\" to denote all indexes along a dimension. As an example, let's do some unit conversion: The height values are in inches, and we can multiply them with 2.54 to convert them to meters:"
   ]
  },
  {
   "cell_type": "code",
   "execution_count": 4,
   "metadata": {
    "collapsed": false
   },
   "outputs": [
    {
     "name": "stdout",
     "output_type": "stream",
     "text": [
      "[[187.57142322 241.89356318]\n",
      " [174.70603628 162.31047252]\n",
      " [188.2396677  212.74085556]\n",
      " ...\n",
      " [162.22470022 128.47531878]\n",
      " [175.34697755 163.85246135]\n",
      " [157.33838453 113.64910268]]\n"
     ]
    }
   ],
   "source": [
    "data[:,0]*=2.54  #Here, we use the *= shorthand, which is the same as data[:,0]=data[:,0]*2.54\n",
    "print(data)"
   ]
  },
  {
   "cell_type": "markdown",
   "metadata": {},
   "source": [
    "Note: if you run the code above for many times, you keep multiplying the height, as Jupyter maintains the program state. You can run the data loading code above to reset the data tensor back to the original value.\n",
    "\n",
    "Let's now do the same scaling for weight, which is given in pounds."
   ]
  },
  {
   "cell_type": "code",
   "execution_count": 5,
   "metadata": {
    "collapsed": false
   },
   "outputs": [
    {
     "name": "stdout",
     "output_type": "stream",
     "text": [
      "[[187.57142322 109.72107461]\n",
      " [174.70603628  73.62279191]\n",
      " [188.2396677   96.49762887]\n",
      " ...\n",
      " [162.22470022  58.27542433]\n",
      " [175.34697755  74.32222627]\n",
      " [157.33838453  51.55036583]]\n"
     ]
    }
   ],
   "source": [
    "data[:,1]*=0.45359237\n",
    "print(data)"
   ]
  },
  {
   "cell_type": "markdown",
   "metadata": {},
   "source": [
    "Now, let's try some data visualization using PyPlot."
   ]
  },
  {
   "cell_type": "code",
   "execution_count": 6,
   "metadata": {
    "collapsed": false
   },
   "outputs": [
    {
     "data": {
      "text/plain": [
       "Text(0, 0.5, 'Weight (kilograms)')"
      ]
     },
     "execution_count": 6,
     "metadata": {},
     "output_type": "execute_result"
    },
    {
     "data": {
      "image/png": "[encoded data removed]",
      "text/plain": [
       "<Figure size 432x288 with 1 Axes>"
      ]
     },
     "metadata": {
      "needs_background": "light"
     },
     "output_type": "display_data"
    }
   ],
   "source": [
    "pp.figure(1)\n",
    "pp.scatter(data[:,0],data[:,1],marker=\".\")\n",
    "pp.title(\"Relation of height and weight\")\n",
    "pp.xlabel(\"Height (centimeters)\")\n",
    "pp.ylabel(\"Weight (kilograms)\")"
   ]
  },
  {
   "cell_type": "markdown",
   "metadata": {},
   "source": [
    "Not surprisingly, there's a strong correlation between height and weight. We can see that a 2m tall person typically weights around 110 kg. \n",
    "\n",
    "Now, if we want to make such predictions computationally, we're going to need a machine learning model. We will first train a single-neuron network, i.e., a simple linear model. "
   ]
  },
  {
   "cell_type": "code",
   "execution_count": 7,
   "metadata": {
    "collapsed": false
   },
   "outputs": [
    {
     "name": "stdout",
     "output_type": "stream",
     "text": [
      "Epoch 1/5\n",
      "10000/10000 [==============================] - 1s 57us/step - loss: 3157.8012\b\b\b\b\b\b\b\b\b\b\b\b\b\b\b\b\b\b\b\b\b\b\b\b\b\b\b\b\b\b\b\b\b\b\b\b\b\b\b\b\b\b\b\b\b\b\b\b\b\b\b\b\b\b\b\b\b\b\b\b\b\b\b\b\b\b\b\b\b\b\b\b\b\b\b\b\b\b\b\b\b\b\b\b\b\b\b\b\b\b\b\b\b\b\b\b\b\b\b\b\b\b\b\b\b\b\b\b\b\b\b\b\b\b\b\b\b\b\b\b\b\b\b\b\b\b\b\b\b\b\b\b\b\b\b\b\b\b\b\b\b\b\b\b\b\b\b\b\b\b\b\b\b\b\b\b\b\b\b\b\b\b\b\b\b\b\b\b\b\b\b\b\b\b\b\b\b\b\b\b\b\b\b\b\b\b\b\b\b\b\b\b\b\b\b\b\b\b\b\b\b\b\b\b\b\b\b\b\b\b\b\b\b\b\b\b\b\b\b\b\b\b\b\b\b\b\b\b\b\b\b\b\b\b\b\b\b\b\b\b\b\b\b\b\b\b\b\b\b\b\b\b\b\b\b\b\b\b\b\b\b\b\b\b\b\b\b\b\b\b\b\b\b\b\b\b\b\b\b\b\b\b\b\b\b\b\b\b\b\b\b\b\b\b\b\b\b\b\b\b\b\b\b\b\b\b\b\b\b\b\b\b\b\b\b\b\b\b\b\b\b\b\b\b\b\b\b\b\b\b\b\b\b\b\b\b\b\b\b\b\b\b\b\b\b\b\b\b\b\b\b\b\b\b\b\b\b\b\b\b\b\b\b\b\n",
      "Epoch 2/5\n",
      "10000/10000 [==============================] - 0s 24us/step - loss: 118.1119\b\b\b\b\b\b\b\b\b\b\b\b\b\b\b\b\b\b\b\b\b\b\b\b\b\b\b\b\b\b\b\b\b\b\b\b\b\b\b\b\b\b\b\b\b\b\b\b\b\b\b\b\b\b\b\b\b\b\b\b\b\b\b\b\b\b\b\b\b\b\b\b\b\b\b\b\b\b\b\b\b\b\b\b\b\b\b\b\b\b\b\b\b\b\b\b\b\b\b\b\b\b\b\b\b\b\b\b\b\b\b\b\b\b\b\b\b\b\b\b\b\b\b\b\b\b\b\b\b\b\b\b\b\b\b\b\b\b\b\b\b\b\b\b\b\b\b\b\b\b\b\b\b\b\b\b\b\b\b\b\b\b\b\b\b\b\b\b\b\b\b\b\b\b\b\b\b\b\b\b\b\b\b\b\b\b\b\b\b\b\b\b\b\b\b\b\b\b\b\b\b\b\b\b\b\b\b\b - ETA: 0s - loss: 118.1826\b\b\b\b\b\b\b\b\b\b\b\b\b\b\b\b\b\b\b\b\b\b\b\b\b\b\b\b\b\b\b\b\b\b\b\b\b\b\b\b\b\b\b\b\b\b\b\b\b\b\b\b\b\b\b\b\b\b\b\b\b\b\b\b\b\b\b\b\b\b\b\b\b\b\b\b\b\b\b\b\b\b\b\b\b\b\b\b\b\b\b\b\b\b\b\b\b\b\b\b\b\b\b\b\b\b\b\b\b\b\b\b\b\b\b\b\b\b\b\b\b\b\b\b\b\b\b\b\b\b\b\b\b\b\b\b\b\b\b\b\b\b\n",
      "Epoch 3/5\n",
      "10000/10000 [==============================] - 0s 23us/step - loss: 117.9468\b\b\b\b\b\b\b\b\b\b\b\b\b\b\b\b\b\b\b\b\b\b\b\b\b\b\b\b\b\b\b\b\b\b\b\b\b\b\b\b\b\b\b\b\b\b\b\b\b\b\b\b\b\b\b\b\b\b\b\b\b\b\b\b\b\b\b\b\b\b\b\b\b\b\b\b\b\b\b\b\b\b\b\b\b\b\b\b\b\b\b\b\b\b\b\b\b\b\b\b\b\b\b\b\b\b\b\b\b\b\b\b\b\b\b\b\b\b\b\b\b\b\b\b\b\b\b\b\b\b\b\b\b\b\b\b\b\b\b\b\b\b\b\b\b\b\b\b\b\b\b\b\b\b\b\b\b\b\b\b\b\b\b\b\b\b\b\b\b\b\b\b\b\b\b\b\b\b\b\b\b\b\b\b\b\b\b\b\b\b\b\b\b\b\b\b\b\b\b\b\b\b\b\b\b\b\b\b\b\b\b\b\b\b\b\b\b\b\b\b\b\b\b\b\b\b\b\b\b\b\b\b\b\b\b\b\b\b\b\b\b\b\b\b\b\b\b\b\b\b\b\b\b\b\b\b\b\b\b\b\b\b\b\b\b\b\b\b\b\b\b\b\b\b\b\b\b\b\b\b\b\b\b\b\b\b\b\b\b\b\b\b\b\b\b\b\b\b\b\b\b\b\b\b\b\b\b\b\b\b\b\b\b\b\b\b\b\b\b\b\b\b\b\b\b\b\b\b\b\b\b\b\b\b\b\b\b\b\b\b\b\b\b\b\b\b\b\b\b\b\n",
      "Epoch 4/5\n",
      "10000/10000 [==============================] - 0s 23us/step - loss: 117.2899\b\b\b\b\b\b\b\b\b\b\b\b\b\b\b\b\b\b\b\b\b\b\b\b\b\b\b\b\b\b\b\b\b\b\b\b\b\b\b\b\b\b\b\b\b\b\b\b\b\b\b\b\b\b\b\b\b\b\b\b\b\b\b\b\b\b\b\b\b\b\b\b\b\b\b\b\b\b\b\b\b\b\b\b\b\b\b\b\b\b\b\b\b\b\b\b\b\b\b\b\b\b\b\b\b\b\b\b\b\b\b\b\b\b\b\b\b\b\b\b\b\b\b\b\b\b\b\b\b\b\b\b\b\b\b\b\b\b\b\b\b\b\b\b\b\b\b\b\b\b\b\b\b\b\b\b\b\b\b\b\b\b\b\b\b\b\b\b\b\b\b\b\b\b\b\b\b\b\b\b\b\b\b\b\b\b\b\b\b\b\b\b\b\b\b\b\b\b\b\b\b\b\b\b\b\b\b\b\b\b\b\b\b\b\b\b\b\b\b\b\b\b\b\b\b\b\b\b\b\b\b\b\b\b\b\b\b\b\b\b\b\b\b\b\b\b\b\b\b\b\b\b\b\b\b\b\b\b\b\b\b\b\b\b\b\b\b\b\b\b\b\b\b\b\b\b\b\b\b\b\b\b\b\b\b\b\b\b\b\b\b\b\b\b\b\b\b\b\b\b\b\b\b\b\b\b\b\b\b\b\b\b\b\b\b\b\b\b\b\b\b\b\b\b\b\b\b\b\b\b\b\b\b\b\b\b\b\b\b\b\b\b\b\b\b\b\b\b\b\b\n",
      "Epoch 5/5\n",
      "10000/10000 [==============================] - 0s 22us/step - loss: 116.8987\b\b\b\b\b\b\b\b\b\b\b\b\b\b\b\b\b\b\b\b\b\b\b\b\b\b\b\b\b\b\b\b\b\b\b\b\b\b\b\b\b\b\b\b\b\b\b\b\b\b\b\b\b\b\b\b\b\b\b\b\b\b\b\b\b\b\b\b\b\b\b\b\b\b\b\b\b\b\b\b\b\b\b\b\b\b\b\b\b\b\b\b\b\b\b\b\b\b\b\b\b\b\b\b\b\b\b\b\b\b\b\b\b\b\b\b\b\b\b\b\b\b\b\b\b\b\b\b\b\b\b\b\b\b\b\b\b\b\b\b\b\b\b\b\b\b\b\b\b\b\b\b\b\b\b\b\b\b\b\b\b\b\b\b\b\b\b\b\b\b\b\b\b\b\b\b\b\b\b\b\b\b\b\b\b\b\b\b\b\b\b\b\b\b\b\b\b\b\b\b\b\b\b\b\b\b\b\b\b\b\b\b\b\b\b\b\b\b\b\b\b\b\b\b\b\b\b\b\b\b\b\b\b\b\b\b\b\b\b\b\b\b\b\b\b\b\b\b\b\b\b\b\b\b\b\b\b\b\b\b\b\b\b\b\b\b\b\b\b\b\b\b\b\b\b\b\b\b\b\b\b\b\b\b\b\b\b\b\b\b\b\b\b\b\b\b\b\b\b\b\b\b\b\b\b\b\b\b\b\b\b\b\b\b\b\b\b\b\b\b\b\b\b\b\b\b\b\b\b\b\b\b\b\b\b\b\b\b\b\b\b\b\b\b\b\b\b\b\b\b\n"
     ]
    },
    {
     "data": {
      "text/plain": [
       "<tensorflow.python.keras.callbacks.History at 0x23bba06c908>"
      ]
     },
     "execution_count": 7,
     "metadata": {},
     "output_type": "execute_result"
    }
   ],
   "source": [
    "#keras.Sequential makes it easy to compose a neural network models out of layers\n",
    "model = keras.Sequential()\n",
    "\n",
    "#Add a 1-neuron layer with linear activation, taking one input value. \n",
    "#The input_shape=(1,) defines that there's only a single input value, but batch size is yet unknown.\n",
    "#Note that this notation is a bit misleading, as the batch data index dimension is really the first one and not the second one.  \n",
    "#Fortunately, the input_shape needs to only be specified for the first layer\n",
    "model.add(keras.layers.Dense(1,input_shape=(1,),use_bias=True))\n",
    "\n",
    "#Make the model ready for optimization using Adam optimizer (the usual reasonable first guess).\n",
    "#The loss parameter defines the loss function that optimization tries to minimize, in this case\n",
    "#the mean squared error between the network outputs and actual data values.\n",
    "#The lr parameter is the \"learning rate\". With this simple model, we can use a high learning rate of 0.1,\n",
    "#whereas many complex networks require 0.001 or even 0.0001. This makes training more stable but also more slow.\n",
    "model.compile(optimizer=keras.optimizers.Adam(lr=0.1),loss=\"mean_squared_error\")\n",
    "\n",
    "#Define our training inputs and outputs. Our network takes in height (column 0 in the data) and outputs weight (column 1).\n",
    "trainingInputs=data[:,0]\n",
    "trainingOutputs=data[:,1]\n",
    "\n",
    "#Reshape the tensors: This is needed because Tensorflow and Keras models expect to get data in batches, as specified above.\n",
    "trainingInputs=np.reshape(trainingInputs,[trainingInputs.shape[0],1])\n",
    "trainingOutputs=np.reshape(trainingOutputs,[trainingOutputs.shape[0],1])\n",
    "\n",
    "#Fit the model. Epochs defines how many times the network will see all data during the training.\n",
    "model.fit(trainingInputs,trainingOutputs,verbose=1,epochs=5)\n"
   ]
  },
  {
   "cell_type": "markdown",
   "metadata": {},
   "source": [
    "Now, let's plot the data again, adding the model predictions."
   ]
  },
  {
   "cell_type": "code",
   "execution_count": 8,
   "metadata": {
    "collapsed": false
   },
   "outputs": [
    {
     "data": {
      "text/plain": [
       "<matplotlib.collections.PathCollection at 0x23bbd452588>"
      ]
     },
     "execution_count": 8,
     "metadata": {},
     "output_type": "execute_result"
    },
    {
     "data": {
      "image/png": "[encoded data removed]",
      "text/plain": [
       "<Figure size 432x288 with 1 Axes>"
      ]
     },
     "metadata": {
      "needs_background": "light"
     },
     "output_type": "display_data"
    }
   ],
   "source": [
    "pp.figure(1)\n",
    "#pp.scatter(data[:,0],data[:,1],marker=\".\")\n",
    "pp.scatter(trainingInputs[:,0],trainingOutputs[:,0],marker=\".\")\n",
    "pp.title(\"Relation of height and weight\")\n",
    "pp.xlabel(\"Height (centimeters)\")\n",
    "pp.ylabel(\"Weight (kilograms)\")\n",
    "predictions=model.predict(trainingInputs)\n",
    "#NOTE: The predictions is of the same shape as trainingOutputs, i.e., [10000,1]\n",
    "#scatter() expects 1-dimensional x and y arrays; thus, we need to use the [:,0] and [:,1] indexing.\n",
    "pp.scatter(trainingInputs[:,0],predictions[:,0])"
   ]
  },
  {
   "cell_type": "markdown",
   "metadata": {},
   "source": [
    "What you should see above is a line that predicts growing weight with growing height, but it does not yet fit the data really well. However, the fit gets better when the training continues. Below, we optimize for 50 more epochs and then visualize again. "
   ]
  },
  {
   "cell_type": "code",
   "execution_count": 9,
   "metadata": {
    "collapsed": false
   },
   "outputs": [
    {
     "name": "stdout",
     "output_type": "stream",
     "text": [
      "Epoch 1/50\n",
      " - 0s - loss: 115.6874\n",
      "Epoch 2/50\n",
      " - 0s - loss: 115.5115\n",
      "Epoch 3/50\n",
      " - 0s - loss: 114.1112\n",
      "Epoch 4/50\n",
      " - 0s - loss: 112.2813\n",
      "Epoch 5/50\n",
      " - 0s - loss: 110.8665\n",
      "Epoch 6/50\n",
      " - 0s - loss: 108.9660\n",
      "Epoch 7/50\n",
      " - 0s - loss: 107.2746\n",
      "Epoch 8/50\n",
      " - 0s - loss: 104.6932\n",
      "Epoch 9/50\n",
      " - 0s - loss: 103.6156\n",
      "Epoch 10/50\n",
      " - 0s - loss: 102.2273\n",
      "Epoch 11/50\n",
      " - 0s - loss: 98.7705\n",
      "Epoch 12/50\n",
      " - 0s - loss: 92.2656\n",
      "Epoch 13/50\n",
      " - 0s - loss: 91.1480\n",
      "Epoch 14/50\n",
      " - 0s - loss: 87.6206\n",
      "Epoch 15/50\n",
      " - 0s - loss: 86.7297\n",
      "Epoch 16/50\n",
      " - 0s - loss: 80.4264\n",
      "Epoch 17/50\n",
      " - 0s - loss: 76.6321\n",
      "Epoch 18/50\n",
      " - 0s - loss: 75.4742\n",
      "Epoch 19/50\n",
      " - 0s - loss: 74.2170\n",
      "Epoch 20/50\n",
      " - 0s - loss: 73.5156\n",
      "Epoch 21/50\n",
      " - 0s - loss: 69.9867\n",
      "Epoch 22/50\n",
      " - 0s - loss: 66.5973\n",
      "Epoch 23/50\n",
      " - 0s - loss: 65.6584\n",
      "Epoch 24/50\n",
      " - 0s - loss: 62.2860\n",
      "Epoch 25/50\n",
      " - 0s - loss: 61.5626\n",
      "Epoch 26/50\n",
      " - 0s - loss: 60.6025\n",
      "Epoch 27/50\n",
      " - 0s - loss: 57.1956\n",
      "Epoch 28/50\n",
      " - 0s - loss: 54.6859\n",
      "Epoch 29/50\n",
      " - 0s - loss: 55.4883\n",
      "Epoch 30/50\n",
      " - 0s - loss: 52.0853\n",
      "Epoch 31/50\n",
      " - 0s - loss: 50.5067\n",
      "Epoch 32/50\n",
      " - 0s - loss: 49.7127\n",
      "Epoch 33/50\n",
      " - 0s - loss: 48.3481\n",
      "Epoch 34/50\n",
      " - 0s - loss: 50.5476\n",
      "Epoch 35/50\n",
      " - 0s - loss: 46.7428\n",
      "Epoch 36/50\n",
      " - 0s - loss: 44.6278\n",
      "Epoch 37/50\n",
      " - 0s - loss: 45.9733\n",
      "Epoch 38/50\n",
      " - 0s - loss: 42.8169\n",
      "Epoch 39/50\n",
      " - 0s - loss: 44.2080\n",
      "Epoch 40/50\n",
      " - 0s - loss: 41.3827\n",
      "Epoch 41/50\n",
      " - 0s - loss: 45.3225\n",
      "Epoch 42/50\n",
      " - 0s - loss: 40.4810\n",
      "Epoch 43/50\n",
      " - 0s - loss: 40.7192\n",
      "Epoch 44/50\n",
      " - 0s - loss: 41.5300\n",
      "Epoch 45/50\n",
      " - 0s - loss: 38.5951\n",
      "Epoch 46/50\n",
      " - 0s - loss: 38.7043\n",
      "Epoch 47/50\n",
      " - 0s - loss: 39.6930\n",
      "Epoch 48/50\n",
      " - 0s - loss: 37.7045\n",
      "Epoch 49/50\n",
      " - 0s - loss: 39.4564\n",
      "Epoch 50/50\n",
      " - 0s - loss: 38.0875\n"
     ]
    },
    {
     "data": {
      "text/plain": [
       "<matplotlib.collections.PathCollection at 0x23bbd491a58>"
      ]
     },
     "execution_count": 9,
     "metadata": {},
     "output_type": "execute_result"
    },
    {
     "data": {
      "image/png": "[encoded data removed]",
      "text/plain": [
       "<Figure size 432x288 with 1 Axes>"
      ]
     },
     "metadata": {
      "needs_background": "light"
     },
     "output_type": "display_data"
    }
   ],
   "source": [
    "#fit the model\n",
    "model.fit(trainingInputs,trainingOutputs,verbose=2,epochs=50)  #we predict column 1 from column 0 \n",
    "\n",
    "#visualize the data\n",
    "pp.figure(1)\n",
    "pp.scatter(data[:,0],data[:,1],marker=\".\")\n",
    "pp.title(\"Relation of height and weight\")\n",
    "pp.xlabel(\"Height (centimeters)\")\n",
    "pp.ylabel(\"Weight (kilograms)\")\n",
    "predictions=model.predict(trainingInputs)\n",
    "pp.scatter(trainingInputs[:,0],predictions[:,0])"
   ]
  },
  {
   "cell_type": "markdown",
   "metadata": {},
   "source": [
    "Now, it's easy to query the model with any height values:"
   ]
  },
  {
   "cell_type": "code",
   "execution_count": 10,
   "metadata": {
    "collapsed": false
   },
   "outputs": [
    {
     "name": "stdout",
     "output_type": "stream",
     "text": [
      "The predicted weight for a person who weighs 200kg is  113.035934\n"
     ]
    }
   ],
   "source": [
    "print(\"The predicted weight for a person who weighs 200kg is \",model.predict([[200]])[0,0])"
   ]
  },
  {
   "cell_type": "markdown",
   "metadata": {},
   "source": [
    "Note that above, we had to use [[200]], because we only had one value to predict but the network wants a 2D tensor as input. [[200]] defines an array of shape [1,1] with the only element having indices [0,0] and value 200. Similarly, the prediction is a [1,1] shaped tensor, which we query with indices [0,0].\n",
    "\n",
    "**Unfortunately, this tensor indexing mess is one of the biggest hurdles in getting into ML coding. Don't worry, it's hard for everyone at first. Once you've wrapped your head around it, things will get much easier.**"
   ]
  }
 ],
 "metadata": {
  "kernelspec": {
   "display_name": "tensorflow2env",
   "language": "python",
   "name": "tensorflow2env"
  },
  "language_info": {
   "codemirror_mode": {
    "name": "ipython",
    "version": 3
   },
   "file_extension": ".py",
   "mimetype": "text/x-python",
   "name": "python",
   "nbconvert_exporter": "python",
   "pygments_lexer": "ipython3",
   "version": "3.5.4"
  }
 },
 "nbformat": 4,
 "nbformat_minor": 2
}
