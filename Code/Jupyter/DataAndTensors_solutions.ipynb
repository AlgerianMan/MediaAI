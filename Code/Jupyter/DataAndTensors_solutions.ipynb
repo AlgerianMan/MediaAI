{
 "cells": [
  {
   "cell_type": "markdown",
   "metadata": {},
   "source": [
    "We begin similar to the tutorial:"
   ]
  },
  {
   "cell_type": "code",
   "execution_count": null,
   "metadata": {
    "collapsed": false,
    "jupyter": {
     "outputs_hidden": false
    }
   },
   "outputs": [],
   "source": [
    "import numpy as np\n",
    "import matplotlib.pyplot as pp\n",
    "data=np.loadtxt(\"../Datasets/weight-height.csv\",skiprows=1,usecols=(1,2),delimiter=\",\")\n",
    "data[:,0]*=2.54  #Here, we use the *= shorthand, which is the same as data[:,0]=data[:,0]*2.54\n",
    "data[:,1]*=0.45359237"
   ]
  },
  {
   "cell_type": "markdown",
   "metadata": {},
   "source": [
    "The first exercise was to only plot the first N points. This is easy with Python's flexible tensor indexing, no for loops needed."
   ]
  },
  {
   "cell_type": "code",
   "execution_count": null,
   "metadata": {
    "collapsed": false,
    "jupyter": {
     "outputs_hidden": false
    }
   },
   "outputs": [],
   "source": [
    "N=20\n",
    "pp.scatter(data[:N,0],data[:N,1],marker=\".\")\n",
    "pp.title(\"Relation of height and weight\")\n",
    "pp.xlabel(\"Height (centimeters)\")\n",
    "pp.ylabel(\"Weight (kilograms)\")"
   ]
  },
  {
   "cell_type": "markdown",
   "metadata": {},
   "source": [
    "The second exercise was to visualize how the mean of height changes when you compute it from different amounts of data. The key lesson here is that mean computed from noisy data is also noisy, i.e., mean of random variables is also random variable. "
   ]
  },
  {
   "cell_type": "markdown",
   "metadata": {},
   "source": [
    "Above, we've already used the \":\" symbol to denote \"all indices\". It can also be used for defining arbitrary ranges. Note the following:\n",
    "* The indexing is zero-based, i.e., index 1 is the second element and index 0 is the first.\n",
    "* A range a:b includes a but not b. Instead, the last index in the range is b-1. \n",
    "\n",
    "Thus, this is how you print three elements starting from the second one:"
   ]
  },
  {
   "cell_type": "code",
   "execution_count": null,
   "metadata": {
    "collapsed": false,
    "jupyter": {
     "outputs_hidden": false
    }
   },
   "outputs": [],
   "source": [
    "#we will use up to this many data points\n",
    "maxData=1000  \n",
    "#allocate a Numpy array for the results\n",
    "means=np.zeros(maxData)\n",
    "#loop over the ranges\n",
    "for i in range(maxData):\n",
    "    means[i]=np.mean(data[:i+1,0])\n",
    "    \n",
    "pp.plot(means)\n",
    "pp.title(\"Mean of height with different amounts of data\")\n",
    "pp.xlabel(\"Number of data points\")\n",
    "pp.ylabel(\"Mean\")"
   ]
  }
 ],
 "metadata": {
  "kernelspec": {
   "display_name": "Python 3",
   "language": "python",
   "name": "python3"
  },
  "language_info": {
   "codemirror_mode": {
    "name": "ipython",
    "version": 3
   },
   "file_extension": ".py",
   "mimetype": "text/x-python",
   "name": "python",
   "nbconvert_exporter": "python",
   "pygments_lexer": "ipython3",
   "version": "3.7.3"
  }
 },
 "nbformat": 4,
 "nbformat_minor": 4
}
