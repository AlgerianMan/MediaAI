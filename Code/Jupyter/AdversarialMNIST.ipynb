{
 "cells": [
  {
   "cell_type": "markdown",
   "metadata": {},
   "source": [
    "# Adversarial image synthesis using an MNIST classifier\n",
    "\n",
    "This notebook utilizes the MNIST classifier of the previous tutorial.\n",
    "\n",
    "**Learning goals:**\n",
    "* Building and training a convolutional neural network on a bit lower level, mixing both Tensorflow and Keras, which allows us to perform more interesting manipulations.\n",
    "* Cloning built models\n",
    "* Synthesizing media as adversarial inputs to a classifier, in this case adversarial images.\n",
    "\n",
    "**After you've read, run, and understood the code, try to modify it as follows to test your learning:**\n",
    "\n",
    "*Note: we don't expect you to complete these all, we just provide many examples to illustrate that you can do quite many interesting things with a simple image classification network.*\n",
    "\n",
    "* Easy: Instead of optimizing the classification loss, optimize an image that maximizes some individual neuron's output. Hint: you can access the neuron outputs as ```model2.layers[layer_index].output```\n",
    "* Easy: Experiment with different starting images, and different network variations, e.g., amounts of drop-off. Also experiment in having the optimized image in a different resolution (you'll need to scale it for the network, though). Can you make more meaningful adversarial images emerge?\n",
    "* Advanced: Develop a game where the player has to draw adversarial images that score high classification probabilities with as few pixels as possible. For this, you should either load the network to Unity using Tensorflow Sharp, or experiment with Python's mouse input etc. Obviously, such interaction is not possible inside Jupyter, so you should develop using some other IDE such as Visual Studio, Pycharm, or Spyder (the latter is included in Anaconda)\n",
    "* Advanced: Track a user using Kinect, OpenPose or equivalent. Render the user's skeleton or silhouette as a Numpy tensor and make a game or interactive installation where the user attempts to pose such that he/she is recognized as a number by the MNIST classifier network.\n",
    "* Advanced: Optimize the pose of an animated character such that the rendered silhouette makes the network think it's seeing numbers. You'll need to figure out a pipeline from an animation model to the silhouette rendered as a tensor that can be fed to the network. You can do the adversarial optimization either using a differentiable renderer like SoftRas as part of the compute graph and using a Tensorflow optimizer like Adam, or optimize the pose directly using CMA-ES or (LM-)MA-ES. We will talk about the latter two later on the course.\n",
    "\n",
    "**Note that you can also try all of the above with audio**. You just need some audio dataset for training and Conv1D instead of Conv2D layers, as audio data is typically handled as 3D tensors of shape [nBatch,nAudioSamples,nChannels]\n",
    "\n",
    "For more about mixing Keras and Tensorflow, see [https://blog.keras.io/keras-as-a-simplified-interface-to-tensorflow-tutorial.html](https://blog.keras.io/keras-as-a-simplified-interface-to-tensorflow-tutorial.html)."
   ]
  },
  {
   "cell_type": "markdown",
   "metadata": {},
   "source": [
    "## Loading and visualizing the data\n",
    "\n",
    "First, let's load the dataset using keras helpers and visualize some images using pyplot"
   ]
  },
  {
   "cell_type": "code",
   "execution_count": 1,
   "metadata": {
    "collapsed": false
   },
   "outputs": [
    {
     "name": "stderr",
     "output_type": "stream",
     "text": [
      "c:\\CondaEnvs\\tensorflow2\\lib\\site-packages\\numpy\\core\\__init__.py:29: UserWarning: loaded more than 1 DLL from .libs:\n",
      "c:\\CondaEnvs\\tensorflow2\\lib\\site-packages\\numpy\\.libs\\libopenblas.BNVRK7633HSX7YVO2TADGR4A5KEKXJAW.gfortran-win_amd64.dll\n",
      "c:\\CondaEnvs\\tensorflow2\\lib\\site-packages\\numpy\\.libs\\libopenblas.IPBC74C7KURV7CB2PKT5Z5FNR3SIBV4J.gfortran-win_amd64.dll\n",
      "  stacklevel=1)\n"
     ]
    },
    {
     "name": "stdout",
     "output_type": "stream",
     "text": [
      "Populating the interactive namespace from numpy and matplotlib\n",
      "shape:  (60000, 28, 28)\n",
      "new shape:  (60000, 28, 28, 1)\n"
     ]
    },
    {
     "data": {
      "image/png": "[encoded data removed]",
      "text/plain": [
       "<Figure size 432x288 with 8 Axes>"
      ]
     },
     "metadata": {
      "needs_background": "light"
     },
     "output_type": "display_data"
    }
   ],
   "source": [
    "#The pylab inline below is something you may need to make images and plots visible in Jupyter, depending on your Anaconda setup\n",
    "%pylab inline  \n",
    "import numpy as np\n",
    "import matplotlib.pyplot as pp\n",
    "import os\n",
    "os.environ[\"CUDA_VISIBLE_DEVICES\"]=\"-1\" #disable Tensorflow GPU usage, a simple example like this runs faster on CPU\n",
    "import tensorflow as tf\n",
    "import tensorflow.keras as keras\n",
    "#from tensorflow import keras \n",
    "\n",
    "#load the MNIST dataset\n",
    "mnist = keras.datasets.mnist\n",
    "(x_train, y_train),(x_test, y_test) = mnist.load_data()\n",
    "\n",
    "#Scale the pixel intensity values to 0...1 from 0...255\n",
    "#Fortunately, we don't a StandardScaler here\n",
    "x_train, x_test = x_train / 255.0, x_test / 255.0\n",
    "\n",
    "#check the shape: you should see that x_train is a 3D tensor, \n",
    "#with 60000 instances of 2D tensors 28x28 pixels \n",
    "print(\"shape: \",x_train.shape)\n",
    "\n",
    "#because the keras layers we will use need explicitly defined pixel channel count as the fourth dimension,\n",
    "#we reshape:\n",
    "x_train=np.reshape(x_train,[x_train.shape[0],x_train.shape[1],x_train.shape[2],1])\n",
    "print(\"new shape: \",x_train.shape)\n",
    "\n",
    "#do the same for test data\n",
    "x_test=np.reshape(x_test,[x_test.shape[0],x_test.shape[1],x_test.shape[2],1])\n",
    "\n",
    "\n",
    "#visualize some of the images\n",
    "pp.figure(1)\n",
    "for i in range(8):\n",
    "    pp.subplot(1,8,1+i)\n",
    "    #imshow expects a 2d tensor, thus we pick the i:th image, full width and height, and the first and only color channel\n",
    "    pp.imshow(x_train[i,:,:,0])\n"
   ]
  },
  {
   "cell_type": "markdown",
   "metadata": {},
   "source": [
    "## Going more low-level with Keras and Tensorflow \n",
    "\n",
    "Keras models like the one used in the previous exercise are pretty much black boxes. If you want to hack together something more sophisticated, you'll often have to open the box a little. Below, we implement the following modifications:\n",
    "* We define the network's input explicitly as a placeholder tensor. This allows us to replace it with a variable that can be optimized for adversarial image generation.\n",
    "* We define the layers as above, but explicitly add an input layer\n",
    "* Instead of using model.compile() and model.fit(), we explicitly define the loss function and use a Tensorflow optimizer. This is now required as we have the explicit input layer. \n",
    "* We use another optimizer for adversarial image generation.\n",
    "\n",
    "*Pay particular attention to how one uses sess.run() to interact with the compute graph.*"
   ]
  },
  {
   "cell_type": "code",
   "execution_count": 10,
   "metadata": {
    "collapsed": false
   },
   "outputs": [
    {
     "name": "stderr",
     "output_type": "stream",
     "text": [
      "c:\\CondaEnvs\\tensorflow2\\lib\\site-packages\\tensorflow\\python\\client\\session.py:1702: UserWarning: An interactive session is already active. This can cause out-of-memory errors in some cases. You must explicitly call `InteractiveSession.close()` to release resources held by the other session(s).\n",
      "  warnings.warn('An interactive session is already active. This can '\n"
     ]
    },
    {
     "name": "stdout",
     "output_type": "stream",
     "text": [
      "Iteration 0/5000, Loss 2.3023393154144287\n",
      "Iteration 100/5000, Loss 1.7727928161621094\n",
      "Iteration 200/5000, Loss 1.6965547800064087\n",
      "Iteration 300/5000, Loss 1.719458818435669\n",
      "Iteration 400/5000, Loss 1.7168712615966797\n",
      "Iteration 500/5000, Loss 1.7102552652359009\n",
      "Iteration 600/5000, Loss 1.6191222667694092\n",
      "Iteration 700/5000, Loss 1.7159738540649414\n",
      "Iteration 800/5000, Loss 1.6502971649169922\n",
      "Iteration 900/5000, Loss 1.5228047370910645\n",
      "Iteration 1000/5000, Loss 1.809114694595337\n",
      "Iteration 1100/5000, Loss 1.6790337562561035\n",
      "Iteration 1200/5000, Loss 1.6468656063079834\n",
      "Iteration 1300/5000, Loss 1.7037944793701172\n",
      "Iteration 1400/5000, Loss 1.5905561447143555\n",
      "Iteration 1500/5000, Loss 1.630395770072937\n",
      "Iteration 1600/5000, Loss 1.6414005756378174\n",
      "Iteration 1700/5000, Loss 1.678420066833496\n",
      "Iteration 1800/5000, Loss 1.6300463676452637\n",
      "Iteration 1900/5000, Loss 1.5967791080474854\n",
      "Iteration 2000/5000, Loss 1.6446833610534668\n",
      "Iteration 2100/5000, Loss 1.6511421203613281\n",
      "Iteration 2200/5000, Loss 1.7160042524337769\n",
      "Iteration 2300/5000, Loss 1.6162728071212769\n",
      "Iteration 2400/5000, Loss 1.597463846206665\n",
      "Iteration 2500/5000, Loss 1.5252535343170166\n",
      "Iteration 2600/5000, Loss 1.5304486751556396\n",
      "Iteration 2700/5000, Loss 1.547441840171814\n",
      "Iteration 2800/5000, Loss 1.5578793287277222\n",
      "Iteration 2900/5000, Loss 1.524914264678955\n",
      "Iteration 3000/5000, Loss 1.580287218093872\n",
      "Iteration 3100/5000, Loss 1.5631260871887207\n",
      "Iteration 3200/5000, Loss 1.584011197090149\n",
      "Iteration 3300/5000, Loss 1.6486773490905762\n",
      "Iteration 3400/5000, Loss 1.5789774656295776\n",
      "Iteration 3500/5000, Loss 1.574315071105957\n",
      "Iteration 3600/5000, Loss 1.5871360301971436\n",
      "Iteration 3700/5000, Loss 1.5372170209884644\n",
      "Iteration 3800/5000, Loss 1.5498640537261963\n",
      "Iteration 3900/5000, Loss 1.57432222366333\n",
      "Iteration 4000/5000, Loss 1.5258152484893799\n",
      "Iteration 4100/5000, Loss 1.5240265130996704\n",
      "Iteration 4200/5000, Loss 1.586614727973938\n",
      "Iteration 4300/5000, Loss 1.4906047582626343\n",
      "Iteration 4400/5000, Loss 1.523076057434082\n",
      "Iteration 4500/5000, Loss 1.582352638244629\n",
      "Iteration 4600/5000, Loss 1.7687723636627197\n",
      "Iteration 4700/5000, Loss 1.5240461826324463\n",
      "Iteration 4800/5000, Loss 1.5922577381134033\n",
      "Iteration 4900/5000, Loss 1.5584936141967773\n"
     ]
    }
   ],
   "source": [
    "#In addition to the layers used before, we will need InputLayer, \n",
    "#which allows us to explicitly define the tensors that the network receives as inputs\n",
    "from tensorflow.keras.layers import Dense   #fully connected layer\n",
    "from tensorflow.keras.layers import Conv2D  #convolutional layer with 2D filters (for audio you would use 1D)\n",
    "from tensorflow.keras.layers import Flatten #converts images to plain vectors of numbers\n",
    "from tensorflow.keras.layers import Dropout #this mitigates overfitting\n",
    "from tensorflow.keras.layers import InputLayer\n",
    "from tensorflow.keras.layers import Activation\n",
    "\n",
    "#When coding with \"raw\" tensorflow, one always needs a session variable. \n",
    "#We also reset the default graph which prevents things from slowing down if you run this Jupyter cell multiple times.\n",
    "#Otherwise, you would end up creating many redundant copies of the network.\n",
    "tf.reset_default_graph()\n",
    "sess=tf.InteractiveSession()\n",
    "\n",
    "#declare input placeholders to which to upload data\n",
    "nClasses=10\n",
    "tfX=tf.placeholder(dtype=tf.float32,shape=[None,28,28,1]);\n",
    "tfY=tf.placeholder(dtype=tf.int32,shape=[None]);\n",
    "\n",
    "#Build model the model. The difference to the previous tutorial is that we add the InputLayer.\n",
    "model = keras.models.Sequential()\n",
    "model.add(InputLayer(input_tensor=tfX,input_shape=(28,28,1,)))\n",
    "model.add(Conv2D(16, kernel_size=(5, 5), strides=[2,2],activation='relu'))\n",
    "model.add(Conv2D(32, (5, 5), activation='relu', strides=[2,2]))\n",
    "model.add(Conv2D(32, (3, 3), activation='relu', strides=[2,2]))\n",
    "model.add(Flatten())\n",
    "model.add(Dropout(0.5))\n",
    "model.add(Dense(32, activation='relu'))\n",
    "model.add(Dropout(0.5))\n",
    "model.add(Dense(10))\n",
    "model.add(Activation(activation='softmax'))\n",
    "output=model.output \n",
    "\n",
    "#With the input tensor defined, we can't anymore use model.compile() and model.fit(), as we must explicitly handle\n",
    "#the minibatches that go into the network. Thus, let's define the training loss and optimizer\n",
    "loss=tf.losses.sparse_softmax_cross_entropy(tfY,output)\n",
    "optimizer=tf.train.AdamOptimizer()\n",
    "\n",
    "#optimizer.minimize() gives us a special tensor. Optimization iterations are triggered when we fetch this tensor using sess.run()\n",
    "optimize=optimizer.minimize(loss)\n",
    "\n",
    "#initialize variables (another thing one needs to do when coding low-level)\n",
    "tf.global_variables_initializer().run(session=sess)\n",
    "\n",
    "#Optimize\n",
    "nIter=5000\n",
    "for iter in range(nIter):\n",
    "    #Extract a random minibatch from the data\n",
    "    nMinibatch=32\n",
    "    batchIndices=np.random.randint(0,x_train.shape[0],[nMinibatch])\n",
    "    batch_x,batch_y=x_train[batchIndices],y_train[batchIndices]\n",
    "    \n",
    "    #Use sess.run() to perform the optimization iterations.\n",
    "    #sess.run() is the main method for interacting with the compute graph: you fetch a number of tensors,\n",
    "    #and you pass in all inputs that the fetches require. Before a sess.run() call, there's no computation\n",
    "    #happening, and the code above just constructs the graph. This is a big conceptual difference to simply\n",
    "    #programming with numpy, where function calls directly modify tensor contents. \n",
    "    \n",
    "    #Furthermore, the tensors that one fetches may trigger all kinds of computations, e.g., the optimizer.\n",
    "    \n",
    "    #Here, the optimization and the loss function computing needs data for the tfX and tfY placeholder tensors.\n",
    "    #To make the Keras Dropout layers work, we also must pass in the learning_phase boolean\n",
    "    [temp,currLoss]=sess.run(fetches=[optimize,loss],feed_dict={\n",
    "        tfX:x_train[batchIndices],\n",
    "        tfY:y_train[batchIndices],\n",
    "        tf.keras.backend.learning_phase():True})\n",
    "    \n",
    "    #print progress every 100 iterations\n",
    "    if iter%100==0:\n",
    "        print(\"Iteration {}/{}, Loss {}\".format(iter,nIter,currLoss))\n"
   ]
  },
  {
   "cell_type": "markdown",
   "metadata": {
    "collapsed": true
   },
   "source": [
    "Same as before, let's test the classifier with an image."
   ]
  },
  {
   "cell_type": "code",
   "execution_count": 11,
   "metadata": {
    "collapsed": false
   },
   "outputs": [
    {
     "name": "stdout",
     "output_type": "stream",
     "text": [
      "Testing with image:\n"
     ]
    },
    {
     "data": {
      "image/png": "[encoded data removed]",
      "text/plain": [
       "<Figure size 432x288 with 1 Axes>"
      ]
     },
     "metadata": {
      "needs_background": "light"
     },
     "output_type": "display_data"
    },
    {
     "name": "stdout",
     "output_type": "stream",
     "text": [
      "Predicted class probabilities:  [[1.5943519e-18 3.8778893e-12 1.6141200e-12 1.2608499e-09 8.8223233e-13\n",
      "  9.6200293e-15 2.5357936e-17 1.0000000e+00 2.1214092e-12 4.6829155e-18]]\n",
      "The most probable class is 7, with probability 1.0\n"
     ]
    }
   ],
   "source": [
    "#this is the test image\n",
    "testIdx=0\n",
    "#Show the image\n",
    "print(\"Testing with image:\")\n",
    "pp.imshow(x_test[testIdx,:,:,0])\n",
    "pp.show()\n",
    "#We index by testIdx:testIdx+1 to pass a batch of one image to the network instead of just one image\n",
    "classProbabilities=sess.run(output,{tfX:x_test[testIdx:testIdx+1]})\n",
    "print(\"Predicted class probabilities: \",classProbabilities)\n",
    "#np.argmax returns the index of the largest value in a Numpy tensor.\n",
    "#np.max returns the largest value\n",
    "print(\"The most probable class is {}, with probability {}\".format(np.argmax(classProbabilities),np.max(classProbabilities)))\n"
   ]
  },
  {
   "cell_type": "markdown",
   "metadata": {},
   "source": [
    "## Adversarial image generation\n",
    "\n",
    "Finally, to be able to optimize the adversarial images, we make a new copy of the network, but such that this one receives a tf.Variable() as its inputs. We can then optimize the variable just like we earlier optimized the network parameters. \n",
    "\n",
    "This illustrates the power of Tensorflow and other modern compute graph platforms: Anything can be optimized with respect to anything else, as long as the compute graph contains only differentiable operations.\n"
   ]
  },
  {
   "cell_type": "code",
   "execution_count": 12,
   "metadata": {
    "collapsed": false
   },
   "outputs": [],
   "source": [
    "#We define a variable of shape [1,28,28,1], i.e., a batch of a single image\n",
    "#Variables are special tensors that contain optimized parameters or other data\n",
    "#that one wants to store persistently.\n",
    "image=tf.Variable(dtype=tf.float32,initial_value=np.random.uniform(0,1,[1,28,28,1]))\n",
    "\n",
    "#Make a copy of the trained network but with new inputs\n",
    "model2=tf.keras.models.clone_model(model,image)\n",
    "\n",
    "#Copy weights\n",
    "model2.set_weights(model.get_weights())\n"
   ]
  },
  {
   "cell_type": "markdown",
   "metadata": {},
   "source": [
    "Just to make sure the copying was successful, test the cloned model with the an image.\n",
    "\n",
    "**NOTE:** as the network's input is the variable, we don't feed the image as a parameter to sess.run()\n",
    "Instead, we load the image to the variable before calling sess.run()"
   ]
  },
  {
   "cell_type": "code",
   "execution_count": 13,
   "metadata": {
    "collapsed": false
   },
   "outputs": [
    {
     "name": "stdout",
     "output_type": "stream",
     "text": [
      "Testing cloned model with image:\n"
     ]
    },
    {
     "data": {
      "image/png": "[encoded data removed]",
      "text/plain": [
       "<Figure size 432x288 with 1 Axes>"
      ]
     },
     "metadata": {
      "needs_background": "light"
     },
     "output_type": "display_data"
    },
    {
     "name": "stdout",
     "output_type": "stream",
     "text": [
      "Predicted class probabilities:  [[1.5943519e-18 3.8778893e-12 1.6141200e-12 1.2608499e-09 8.8223233e-13\n",
      "  9.6200293e-15 2.5357936e-17 1.0000000e+00 2.1214092e-12 4.6829155e-18]]\n",
      "The most probable class is 7, with probability 1.0\n"
     ]
    }
   ],
   "source": [
    "testIdx=0\n",
    "print(\"Testing cloned model with image:\")\n",
    "pp.imshow(x_test[testIdx,:,:,0])\n",
    "pp.show()\n",
    "image.load(np.reshape(x_test[testIdx],[1,28,28,1]))\n",
    "classProbabilities=sess.run(model2.output)\n",
    "print(\"Predicted class probabilities: \",classProbabilities)\n",
    "print(\"The most probable class is {}, with probability {}\".format(np.argmax(classProbabilities),np.max(classProbabilities)))\n"
   ]
  },
  {
   "cell_type": "markdown",
   "metadata": {},
   "source": [
    "Now we can start optimize the image until it gives some other class output."
   ]
  },
  {
   "cell_type": "code",
   "execution_count": 41,
   "metadata": {
    "collapsed": false
   },
   "outputs": [
    {
     "name": "stdout",
     "output_type": "stream",
     "text": [
      "Iteration 0/10000, Loss 2.4597318172454834, Target class probability 1.0004727073464892e-06\n",
      "Iteration 1000/10000, Loss 2.4051501750946045, Target class probability 0.0007444066577591002\n",
      "Iteration 2000/10000, Loss 1.4611523151397705, Target class probability 0.9999973773956299\n",
      "Iteration 3000/10000, Loss 1.461152195930481, Target class probability 0.999997615814209\n",
      "Iteration 4000/10000, Loss 1.461152195930481, Target class probability 0.9999978542327881\n",
      "Iteration 5000/10000, Loss 1.4611517190933228, Target class probability 0.9999982118606567\n",
      "Iteration 6000/10000, Loss 1.461151361465454, Target class probability 0.9999985694885254\n",
      "Iteration 7000/10000, Loss 1.4611510038375854, Target class probability 0.999998927116394\n",
      "Iteration 8000/10000, Loss 1.4611510038375854, Target class probability 0.9999991655349731\n",
      "Iteration 9000/10000, Loss 1.4611506462097168, Target class probability 0.9999995231628418\n",
      "Iteration 10000/10000, Loss 1.4611505270004272, Target class probability 0.9999997615814209\n"
     ]
    },
    {
     "data": {
      "image/png": "[encoded data removed]",
      "text/plain": [
       "<Figure size 1584x144 with 11 Axes>"
      ]
     },
     "metadata": {
      "needs_background": "light"
     },
     "output_type": "display_data"
    }
   ],
   "source": [
    "#We want the image to represent this class.\n",
    "targetClass=0\n",
    "\n",
    "#Now, we again need the classification loss, i.e., categorical cross-entropy.\n",
    "#For the loss function, we need to wrap the targetClass variable inside a Tensorflow constant tensor\n",
    "loss=tf.losses.sparse_softmax_cross_entropy(tf.constant([[targetClass]],dtype=int32),model2.output)\n",
    "\n",
    "#For debug, extract the target class probability\n",
    "targetClassProbability=model2.output[0,targetClass]\n",
    "\n",
    "#Create the optimization operation. We explicitly define that we want to only optimize the image,\n",
    "#because otherwise the network's parameters would get changed too.\n",
    "optimizeAdversarial=tf.train.AdamOptimizer().minimize(loss,var_list=[image])\n",
    "\n",
    "#Now a bit of a kludge: because we created a new optimizer, we must run \n",
    "#the Tensorflow global variables initializer again, and this will re-randomize our model weights.\n",
    "#Thus, we first save the weights and then reload them after running the initializer\n",
    "weights=model2.get_weights()\n",
    "tf.global_variables_initializer().run(session=sess)\n",
    "model2.set_weights(weights)\n",
    "\n",
    "#This is our initial image\n",
    "image.load(np.random.uniform(0,1,[1,28,28,1]),sess) \n",
    "\n",
    "#Optimize\n",
    "nIter=10000\n",
    "images=[]  #we will store intermediate results here\n",
    "for iter in range(nIter+1):\n",
    "    #here, sess.run() is simple, as we don't have to feed any placeholders\n",
    "    [temp,currLoss,currProb]=sess.run(fetches=[optimizeAdversarial,loss,targetClassProbability])\n",
    "    #print and show progress\n",
    "    if iter%1000==0:\n",
    "        #print current target class probability\n",
    "        print(\"Iteration {}/{}, Loss {}, Target class probability {}\".format(iter,nIter,currLoss,currProb))\n",
    "        #fetch and store the current image\n",
    "        images.append(sess.run(image)[0,:,:,0])\n",
    "\n",
    "#Display the images        \n",
    "nImages=len(images)\n",
    "pp.figure(1,figsize(nImages*2,2))\n",
    "for i in range(nImages):\n",
    "    pp.subplot(1,nImages,1+i)\n",
    "    pp.imshow(images[i])\n",
    "\n"
   ]
  },
  {
   "cell_type": "code",
   "execution_count": null,
   "metadata": {
    "collapsed": true
   },
   "outputs": [],
   "source": []
  },
  {
   "cell_type": "code",
   "execution_count": null,
   "metadata": {
    "collapsed": true
   },
   "outputs": [],
   "source": []
  }
 ],
 "metadata": {
  "kernelspec": {
   "display_name": "tensorflow2env",
   "language": "python",
   "name": "tensorflow2env"
  },
  "language_info": {
   "codemirror_mode": {
    "name": "ipython",
    "version": 3
   },
   "file_extension": ".py",
   "mimetype": "text/x-python",
   "name": "python",
   "nbconvert_exporter": "python",
   "pygments_lexer": "ipython3",
   "version": "3.5.4"
  }
 },
 "nbformat": 4,
 "nbformat_minor": 2
}
