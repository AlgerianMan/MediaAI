{
 "cells": [
  {
   "cell_type": "markdown",
   "metadata": {},
   "source": [
    "# Adversarial image synthesis using an MNIST classifier\n",
    "\n",
    "This notebook utilizes the MNIST classifier of the previous tutorial.\n",
    "\n",
    "**Learning goals:**\n",
    "* Building and training a convolutional neural network on a bit lower level, mixing both Tensorflow and Keras, which allows us to perform more interesting manipulations.\n",
    "* Cloning built models\n",
    "* Synthesizing media as adversarial inputs to a classifier, in this case adversarial images.\n",
    "\n",
    "**After you've read, run, and understood the code, try to modify it as follows to test your learning:**\n",
    "\n",
    "*Note: we don't expect you to complete these all, we just provide many examples to illustrate that you can do quite many interesting things with a simple image classification network.*\n",
    "\n",
    "* Easy: Instead of optimizing the classification loss, optimize an image that maximizes some individual neuron's output. Hint: you can access the neuron outputs as ```model2.layers[layer_index].output```\n",
    "* Easy: Experiment with different starting images, and different network variations, e.g., amounts of drop-off. Also experiment in having the optimized image in a different resolution (you'll need to scale it for the network, though). Can you make more meaningful adversarial images emerge?\n",
    "* Advanced: Track a user using Kinect, OpenPose or equivalent. Render the user's skeleton or silhouette as a Numpy tensor and make a game or interactive installation where the user attempts to pose such that he/she is recognized as a number by the MNIST classifier network.\n",
    "* Advanced: Optimize the pose of an animated character such that the rendered silhouette makes the network think it's seeing numbers. You'll need to figure out a pipeline from an animation model to the silhouette rendered as a tensor that can be fed to the network. You can do the adversarial optimization either using a differentiable renderer like SoftRas as part of the compute graph and using a Tensorflow optimizer like Adam, or optimize the pose directly using CMA-ES or (LM-)MA-ES. We will talk about the latter two later on the course.\n",
    "\n",
    "**Note that you can also try all of the above with audio**. You just need some audio dataset for training and Conv1D instead of Conv2D layers, as audio data is typically handled as 3D tensors of shape [nBatch,nAudioSamples,nChannels]\n",
    "\n",
    "For more about mixing Keras and Tensorflow, see [https://blog.keras.io/keras-as-a-simplified-interface-to-tensorflow-tutorial.html](https://blog.keras.io/keras-as-a-simplified-interface-to-tensorflow-tutorial.html)."
   ]
  },
  {
   "cell_type": "markdown",
   "metadata": {},
   "source": [
    "## Loading and visualizing the data\n",
    "\n",
    "First, let's load the dataset using keras helpers and visualize some images using pyplot"
   ]
  },
  {
   "cell_type": "code",
   "execution_count": 1,
   "metadata": {
    "collapsed": false
   },
   "outputs": [
    {
     "name": "stderr",
     "output_type": "stream",
     "text": [
      "c:\\CondaEnvs\\tensorflow2\\lib\\site-packages\\numpy\\core\\__init__.py:29: UserWarning: loaded more than 1 DLL from .libs:\n",
      "c:\\CondaEnvs\\tensorflow2\\lib\\site-packages\\numpy\\.libs\\libopenblas.BNVRK7633HSX7YVO2TADGR4A5KEKXJAW.gfortran-win_amd64.dll\n",
      "c:\\CondaEnvs\\tensorflow2\\lib\\site-packages\\numpy\\.libs\\libopenblas.IPBC74C7KURV7CB2PKT5Z5FNR3SIBV4J.gfortran-win_amd64.dll\n",
      "  stacklevel=1)\n"
     ]
    },
    {
     "name": "stdout",
     "output_type": "stream",
     "text": [
      "Populating the interactive namespace from numpy and matplotlib\n",
      "shape:  (60000, 28, 28)\n",
      "new shape:  (60000, 28, 28, 1)\n"
     ]
    },
    {
     "data": {
      "image/png": "[encoded data removed]",
      "text/plain": [
       "<Figure size 432x288 with 8 Axes>"
      ]
     },
     "metadata": {
      "needs_background": "light"
     },
     "output_type": "display_data"
    }
   ],
   "source": [
    "#The pylab inline below is something you may need to make images and plots visible in Jupyter, depending on your Anaconda setup\n",
    "%pylab inline  \n",
    "import numpy as np\n",
    "import matplotlib.pyplot as pp\n",
    "import os\n",
    "os.environ[\"CUDA_VISIBLE_DEVICES\"]=\"-1\" #disable Tensorflow GPU usage, a simple example like this runs faster on CPU\n",
    "import tensorflow as tf\n",
    "import tensorflow.keras as keras\n",
    "#from tensorflow import keras \n",
    "\n",
    "#load the MNIST dataset\n",
    "mnist = keras.datasets.mnist\n",
    "(x_train, y_train),(x_test, y_test) = mnist.load_data()\n",
    "\n",
    "#Scale the pixel intensity values to 0...1 from 0...255\n",
    "#Fortunately, we don't a StandardScaler here\n",
    "x_train, x_test = x_train / 255.0, x_test / 255.0\n",
    "\n",
    "#check the shape: you should see that x_train is a 3D tensor, \n",
    "#with 60000 instances of 2D tensors 28x28 pixels \n",
    "print(\"shape: \",x_train.shape)\n",
    "\n",
    "#because the keras layers we will use need explicitly defined pixel channel count as the fourth dimension,\n",
    "#we reshape:\n",
    "x_train=np.reshape(x_train,[x_train.shape[0],x_train.shape[1],x_train.shape[2],1])\n",
    "print(\"new shape: \",x_train.shape)\n",
    "\n",
    "#do the same for test data\n",
    "x_test=np.reshape(x_test,[x_test.shape[0],x_test.shape[1],x_test.shape[2],1])\n",
    "\n",
    "\n",
    "#visualize some of the images\n",
    "pp.figure(1)\n",
    "for i in range(8):\n",
    "    pp.subplot(1,8,1+i)\n",
    "    #imshow expects a 2d tensor, thus we pick the i:th image, full width and height, and the first and only color channel\n",
    "    pp.imshow(x_train[i,:,:,0])\n"
   ]
  },
  {
   "cell_type": "markdown",
   "metadata": {},
   "source": [
    "## Going more low-level with Keras and Tensorflow \n",
    "\n",
    "Keras models like the one used in the previous exercise are pretty much black boxes. If you want to hack together something more sophisticated, you'll often have to open the box a little. Below, we implement the following modifications:\n",
    "* We define the network's input explicitly as a placeholder tensor. This allows us to replace it with a variable that can be optimized for adversarial image generation.\n",
    "* We define the layers as above, but explicitly add an input layer\n",
    "* Instead of using model.compile() and model.fit(), we explicitly define the loss function and use a Tensorflow optimizer. This is now required as we have the explicit input layer. \n",
    "* We use another optimizer for adversarial image generation.\n",
    "\n",
    "*Pay particular attention to how one uses sess.run() to interact with the compute graph.*"
   ]
  },
  {
   "cell_type": "code",
   "execution_count": 2,
   "metadata": {
    "collapsed": false
   },
   "outputs": [
    {
     "name": "stdout",
     "output_type": "stream",
     "text": [
      "WARNING:tensorflow:From c:\\CondaEnvs\\tensorflow2\\lib\\site-packages\\tensorflow\\python\\ops\\resource_variable_ops.py:435: colocate_with (from tensorflow.python.framework.ops) is deprecated and will be removed in a future version.\n",
      "Instructions for updating:\n",
      "Colocations handled automatically by placer.\n",
      "WARNING:tensorflow:From c:\\CondaEnvs\\tensorflow2\\lib\\site-packages\\tensorflow\\python\\ops\\losses\\losses_impl.py:209: to_float (from tensorflow.python.ops.math_ops) is deprecated and will be removed in a future version.\n",
      "Instructions for updating:\n",
      "Use tf.cast instead.\n",
      "Iteration 0/5000, Loss 2.301969051361084\n",
      "Iteration 100/5000, Loss 1.8550245761871338\n",
      "Iteration 200/5000, Loss 1.8094652891159058\n",
      "Iteration 300/5000, Loss 1.8313151597976685\n",
      "Iteration 400/5000, Loss 1.7670507431030273\n",
      "Iteration 500/5000, Loss 1.646345615386963\n",
      "Iteration 600/5000, Loss 1.675864338874817\n",
      "Iteration 700/5000, Loss 1.7471532821655273\n",
      "Iteration 800/5000, Loss 1.6732457876205444\n",
      "Iteration 900/5000, Loss 1.772589921951294\n",
      "Iteration 1000/5000, Loss 1.7115633487701416\n",
      "Iteration 1100/5000, Loss 1.872357964515686\n",
      "Iteration 1200/5000, Loss 1.7294039726257324\n",
      "Iteration 1300/5000, Loss 1.7835521697998047\n",
      "Iteration 1400/5000, Loss 1.649817705154419\n",
      "Iteration 1500/5000, Loss 1.690361499786377\n",
      "Iteration 1600/5000, Loss 1.738365888595581\n",
      "Iteration 1700/5000, Loss 1.576089859008789\n",
      "Iteration 1800/5000, Loss 1.6642506122589111\n",
      "Iteration 1900/5000, Loss 1.6825859546661377\n",
      "Iteration 2000/5000, Loss 1.7107148170471191\n",
      "Iteration 2100/5000, Loss 1.7317309379577637\n",
      "Iteration 2200/5000, Loss 1.7459678649902344\n",
      "Iteration 2300/5000, Loss 1.6485180854797363\n",
      "Iteration 2400/5000, Loss 1.7982759475708008\n",
      "Iteration 2500/5000, Loss 1.7006306648254395\n",
      "Iteration 2600/5000, Loss 1.7985292673110962\n",
      "Iteration 2700/5000, Loss 1.6866912841796875\n",
      "Iteration 2800/5000, Loss 1.5430041551589966\n",
      "Iteration 2900/5000, Loss 1.6491937637329102\n",
      "Iteration 3000/5000, Loss 1.5976536273956299\n",
      "Iteration 3100/5000, Loss 1.5369033813476562\n",
      "Iteration 3200/5000, Loss 1.834737777709961\n",
      "Iteration 3300/5000, Loss 1.6904752254486084\n",
      "Iteration 3400/5000, Loss 1.5399575233459473\n",
      "Iteration 3500/5000, Loss 1.5779814720153809\n",
      "Iteration 3600/5000, Loss 1.585798978805542\n",
      "Iteration 3700/5000, Loss 1.5521125793457031\n",
      "Iteration 3800/5000, Loss 1.4966572523117065\n",
      "Iteration 3900/5000, Loss 1.5872400999069214\n",
      "Iteration 4000/5000, Loss 1.470672845840454\n",
      "Iteration 4100/5000, Loss 1.5243642330169678\n",
      "Iteration 4200/5000, Loss 1.4718114137649536\n",
      "Iteration 4300/5000, Loss 1.5117571353912354\n",
      "Iteration 4400/5000, Loss 1.5223528146743774\n",
      "Iteration 4500/5000, Loss 1.4932286739349365\n",
      "Iteration 4600/5000, Loss 1.465057611465454\n",
      "Iteration 4700/5000, Loss 1.5216081142425537\n",
      "Iteration 4800/5000, Loss 1.4688844680786133\n",
      "Iteration 4900/5000, Loss 1.5687824487686157\n"
     ]
    }
   ],
   "source": [
    "#In addition to the layers used before, we will need InputLayer, \n",
    "#which allows us to explicitly define the tensors that the network receives as inputs\n",
    "from tensorflow.keras.layers import Dense   #fully connected layer\n",
    "from tensorflow.keras.layers import Conv2D  #convolutional layer with 2D filters (for audio you would use 1D)\n",
    "from tensorflow.keras.layers import Flatten #converts images to plain vectors of numbers\n",
    "from tensorflow.keras.layers import Dropout #this mitigates overfitting\n",
    "from tensorflow.keras.layers import InputLayer\n",
    "\n",
    "#When coding with \"raw\" tensorflow, one always needs a session variable. \n",
    "#We also reset the default graph which prevents things from slowing down if you run this Jupyter cell multiple times.\n",
    "#Otherwise, you would end up creating many redundant copies of the network.\n",
    "tf.reset_default_graph()\n",
    "sess=tf.InteractiveSession()\n",
    "\n",
    "#declare input placeholders to which to upload data\n",
    "nClasses=10\n",
    "tfX=tf.placeholder(dtype=tf.float32,shape=[None,28,28,1]);\n",
    "tfY=tf.placeholder(dtype=tf.int32,shape=[None]);\n",
    "\n",
    "#Build model the model. The difference to the previous tutorial is that we add the InputLayer.\n",
    "#We also omit the dropouts, as that makes it easier to demonstrate the adversarial optimization\n",
    "model = keras.models.Sequential()\n",
    "model.add(InputLayer(input_tensor=tfX,input_shape=(28,28,1,)))\n",
    "model.add(Conv2D(16, kernel_size=(5, 5), strides=[2,2],activation='relu'))\n",
    "model.add(Conv2D(32, kernel_size=(5, 5), activation='relu', strides=[2,2]))\n",
    "model.add(Conv2D(32, kernel_size=(3, 3), activation='relu', strides=[2,2]))\n",
    "model.add(Flatten())\n",
    "model.add(Dense(32, activation='relu'))\n",
    "model.add(Dense(10,activation='softmax'))\n",
    "output=model.output \n",
    "\n",
    "#With the input tensor defined, we can't anymore use model.compile() and model.fit(), as we must explicitly handle\n",
    "#the minibatches that go into the network. Thus, let's define the training loss and optimizer\n",
    "loss=tf.losses.sparse_softmax_cross_entropy(tfY,output)\n",
    "optimizer=tf.train.AdamOptimizer()\n",
    "\n",
    "#optimizer.minimize() gives us a special tensor. Optimization iterations are triggered when we fetch this tensor using sess.run()\n",
    "optimize=optimizer.minimize(loss)\n",
    "\n",
    "#initialize variables (another thing one needs to do when coding low-level)\n",
    "tf.global_variables_initializer().run(session=sess)\n",
    "\n",
    "#Optimize\n",
    "nIter=5000\n",
    "for iter in range(nIter):\n",
    "    #Extract a random minibatch from the data\n",
    "    nMinibatch=32\n",
    "    batchIndices=np.random.randint(0,x_train.shape[0],[nMinibatch])\n",
    "    batch_x,batch_y=x_train[batchIndices],y_train[batchIndices]\n",
    "    \n",
    "    #Use sess.run() to perform the optimization iterations.\n",
    "    #sess.run() is the main method for interacting with the compute graph: you fetch a number of tensors,\n",
    "    #and you pass in all inputs that the fetches require. Before a sess.run() call, there's no computation\n",
    "    #happening, and the code above just constructs the graph. This is a big conceptual difference to simply\n",
    "    #programming with numpy, where function calls directly modify tensor contents. \n",
    "    \n",
    "    #Furthermore, the tensors that one fetches may trigger all kinds of computations, e.g., the optimizer.\n",
    "    \n",
    "    #Here, the optimization and the loss function computing needs data for the tfX and tfY placeholder tensors.\n",
    "    #To make the Keras Dropout layers work, we also must pass in the learning_phase boolean\n",
    "    [temp,currLoss]=sess.run(fetches=[optimize,loss],feed_dict={\n",
    "        tfX:x_train[batchIndices],\n",
    "        tfY:y_train[batchIndices],\n",
    "        tf.keras.backend.learning_phase():True})\n",
    "    \n",
    "    #print progress every 100 iterations\n",
    "    if iter%100==0:\n",
    "        print(\"Iteration {}/{}, Loss {}\".format(iter,nIter,currLoss))\n"
   ]
  },
  {
   "cell_type": "markdown",
   "metadata": {
    "collapsed": true
   },
   "source": [
    "Same as before, let's test the classifier with an image."
   ]
  },
  {
   "cell_type": "code",
   "execution_count": 3,
   "metadata": {
    "collapsed": false
   },
   "outputs": [
    {
     "name": "stdout",
     "output_type": "stream",
     "text": [
      "Testing with image:\n"
     ]
    },
    {
     "data": {
      "image/png": "[encoded data removed]",
      "text/plain": [
       "<Figure size 432x288 with 1 Axes>"
      ]
     },
     "metadata": {
      "needs_background": "light"
     },
     "output_type": "display_data"
    },
    {
     "name": "stdout",
     "output_type": "stream",
     "text": [
      "Predicted class probabilities:  [[7.0550736e-22 2.0491858e-28 7.6486496e-18 2.4659996e-19 0.0000000e+00\n",
      "  1.2378444e-22 1.0480824e-31 1.0000000e+00 7.2982628e-23 7.9576043e-21]]\n",
      "The most probable class is 7, with probability 1.0\n"
     ]
    }
   ],
   "source": [
    "#this is the test image\n",
    "testIdx=0\n",
    "#Show the image\n",
    "print(\"Testing with image:\")\n",
    "pp.imshow(x_test[testIdx,:,:,0])\n",
    "pp.show()\n",
    "#We index by testIdx:testIdx+1 to pass a batch of one image to the network instead of just one image\n",
    "classProbabilities=sess.run(output,{tfX:x_test[testIdx:testIdx+1]})\n",
    "print(\"Predicted class probabilities: \",classProbabilities)\n",
    "#np.argmax returns the index of the largest value in a Numpy tensor.\n",
    "#np.max returns the largest value\n",
    "print(\"The most probable class is {}, with probability {}\".format(np.argmax(classProbabilities),np.max(classProbabilities)))\n"
   ]
  },
  {
   "cell_type": "markdown",
   "metadata": {},
   "source": [
    "## Adversarial image generation\n",
    "\n",
    "Finally, to be able to optimize the adversarial images, we make a new copy of the network, but such that this one receives a tf.Variable() as its inputs. We can then optimize the variable just like we earlier optimized the network parameters. \n",
    "\n",
    "This illustrates the power of Tensorflow and other modern compute graph platforms: Anything can be optimized with respect to anything else, as long as the compute graph contains only differentiable operations.\n"
   ]
  },
  {
   "cell_type": "code",
   "execution_count": 4,
   "metadata": {
    "collapsed": false
   },
   "outputs": [],
   "source": [
    "#We define a variable of shape [1,28,28,1], i.e., a batch of a single image\n",
    "#Variables are special tensors that contain optimized parameters or other data\n",
    "#that one wants to store persistently.\n",
    "image=tf.Variable(dtype=tf.float32,initial_value=np.random.uniform(0,1,[1,28,28,1]))\n",
    "\n",
    "#The optimization may modify the image pixels arbitrarily. \n",
    "#We want to keep the pixel values between 0 and 1, which we can ensure\n",
    "#by using tanh function. Tanh output ranges from -1 to 1, which is why\n",
    "#we need the extra scaling\n",
    "image_clamped=0.5+0.5*tf.tanh(image)\n",
    "\n",
    "#Make a copy of the trained network but with new inputs\n",
    "model2=tf.keras.models.clone_model(model,image_clamped)\n",
    "\n",
    "#Copy weights\n",
    "model2.set_weights(model.get_weights())\n"
   ]
  },
  {
   "cell_type": "markdown",
   "metadata": {},
   "source": [
    "Just to make sure the copying was successful, test the cloned model with the an image.\n",
    "\n",
    "**NOTE:** as the network's input is the variable, we don't feed the image as a parameter to sess.run()\n",
    "Instead, we load the image to the variable before calling sess.run()"
   ]
  },
  {
   "cell_type": "code",
   "execution_count": 5,
   "metadata": {
    "collapsed": false
   },
   "outputs": [
    {
     "name": "stdout",
     "output_type": "stream",
     "text": [
      "Testing cloned model with image:\n"
     ]
    },
    {
     "data": {
      "image/png": "[encoded data removed]",
      "text/plain": [
       "<Figure size 432x288 with 1 Axes>"
      ]
     },
     "metadata": {
      "needs_background": "light"
     },
     "output_type": "display_data"
    },
    {
     "name": "stdout",
     "output_type": "stream",
     "text": [
      "Predicted class probabilities:  [[9.54438865e-01 5.51373227e-12 4.54762280e-02 2.01862645e-06\n",
      "  3.48789331e-10 5.02338366e-07 6.34558091e-07 1.04983335e-10\n",
      "  8.16391839e-05 1.22023390e-11]]\n",
      "The most probable class is 0, with probability 0.9544388651847839\n"
     ]
    }
   ],
   "source": [
    "testIdx=0\n",
    "print(\"Testing cloned model with image:\")\n",
    "pp.imshow(x_test[testIdx,:,:,0])\n",
    "pp.show()\n",
    "image.load(np.reshape(x_test[testIdx],[1,28,28,1]))\n",
    "classProbabilities=sess.run(model2.output)\n",
    "print(\"Predicted class probabilities: \",classProbabilities)\n",
    "print(\"The most probable class is {}, with probability {}\".format(np.argmax(classProbabilities),np.max(classProbabilities)))\n"
   ]
  },
  {
   "cell_type": "markdown",
   "metadata": {},
   "source": [
    "Now we can start optimize the image until it gives some other class output."
   ]
  },
  {
   "cell_type": "code",
   "execution_count": 12,
   "metadata": {
    "collapsed": false
   },
   "outputs": [
    {
     "name": "stdout",
     "output_type": "stream",
     "text": [
      "Iteration 0/10000, Loss 2.2626028060913086, Target class probability 0.17477868497371674\n",
      "Iteration 1000/10000, Loss 1.461788535118103, Target class probability 0.9992520213127136\n",
      "Iteration 2000/10000, Loss 1.4613409042358398, Target class probability 0.9997764229774475\n",
      "Iteration 3000/10000, Loss 1.4612115621566772, Target class probability 0.9999281167984009\n",
      "Iteration 4000/10000, Loss 1.4611767530441284, Target class probability 0.9999688863754272\n",
      "Iteration 5000/10000, Loss 1.461165428161621, Target class probability 0.9999821186065674\n",
      "Iteration 6000/10000, Loss 1.461159348487854, Target class probability 0.99998939037323\n",
      "Iteration 7000/10000, Loss 1.461155652999878, Target class probability 0.9999936819076538\n",
      "Iteration 8000/10000, Loss 1.4611529111862183, Target class probability 0.9999967813491821\n",
      "Iteration 9000/10000, Loss 1.4611517190933228, Target class probability 0.9999982118606567\n",
      "Iteration 10000/10000, Loss 1.4611510038375854, Target class probability 0.9999990463256836\n"
     ]
    },
    {
     "data": {
      "image/png": "[encoded data removed]",
      "text/plain": [
       "<Figure size 1584x144 with 11 Axes>"
      ]
     },
     "metadata": {
      "needs_background": "light"
     },
     "output_type": "display_data"
    }
   ],
   "source": [
    "#We want the image to represent this class.\n",
    "targetClass=0\n",
    "\n",
    "#Now, we again need the classification loss, i.e., categorical cross-entropy.\n",
    "#For the loss function, we need to wrap the targetClass variable inside a Tensorflow constant tensor\n",
    "loss=tf.losses.sparse_softmax_cross_entropy(tf.constant([[targetClass]],dtype=int32),model2.output)\n",
    "\n",
    "#For debug, extract the target class probability\n",
    "targetClassProbability=model2.output[0,targetClass]\n",
    "\n",
    "#Create the optimization operation. We explicitly define that we want to only optimize the image,\n",
    "#because otherwise the network's parameters would get changed too.\n",
    "optimizeAdversarial=tf.train.AdamOptimizer().minimize(loss,var_list=[image])\n",
    "\n",
    "#Now a bit of a kludge: because we created a new optimizer, we must run \n",
    "#the Tensorflow global variables initializer again, and this will re-randomize our model weights.\n",
    "#Thus, we first save the weights and then reload them after running the initializer\n",
    "weights=model2.get_weights()\n",
    "tf.global_variables_initializer().run(session=sess)\n",
    "model2.set_weights(weights)\n",
    "\n",
    "#This is our initial image\n",
    "image.load(np.random.uniform(0,1,[1,28,28,1]),sess) \n",
    "\n",
    "#Optimize\n",
    "nIter=10000\n",
    "images=[]  #we will store intermediate results here\n",
    "for iter in range(nIter+1):\n",
    "    #here, sess.run() is simple, as we don't have to feed any placeholders\n",
    "    [temp,currLoss,currProb]=sess.run(fetches=[optimizeAdversarial,loss,targetClassProbability])\n",
    "    #print and show progress\n",
    "    if iter%1000==0:\n",
    "        #print current target class probability\n",
    "        print(\"Iteration {}/{}, Loss {}, Target class probability {}\".format(iter,nIter,currLoss,currProb))\n",
    "        #fetch and store the current image\n",
    "        images.append(sess.run(image)[0,:,:,0])\n",
    "\n",
    "#Display the images        \n",
    "nImages=len(images)\n",
    "pp.figure(1,figsize(nImages*2,2))\n",
    "for i in range(nImages):\n",
    "    pp.subplot(1,nImages,1+i)\n",
    "    pp.imshow(images[i])\n",
    "\n"
   ]
  },
  {
   "cell_type": "code",
   "execution_count": null,
   "metadata": {
    "collapsed": true
   },
   "outputs": [],
   "source": []
  },
  {
   "cell_type": "code",
   "execution_count": null,
   "metadata": {
    "collapsed": true
   },
   "outputs": [],
   "source": []
  }
 ],
 "metadata": {
  "kernelspec": {
   "display_name": "tensorflow2env",
   "language": "python",
   "name": "tensorflow2env"
  },
  "language_info": {
   "codemirror_mode": {
    "name": "ipython",
    "version": 3
   },
   "file_extension": ".py",
   "mimetype": "text/x-python",
   "name": "python",
   "nbconvert_exporter": "python",
   "pygments_lexer": "ipython3",
   "version": "3.5.4"
  }
 },
 "nbformat": 4,
 "nbformat_minor": 2
}
