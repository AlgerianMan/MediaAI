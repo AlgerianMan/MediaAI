{
 "cells": [
  {
   "cell_type": "markdown",
   "metadata": {},
   "source": [
    "This notebook is designed as one's first machine learning experiment. We will load and visualize a dataset of human heights and weights, and use a simple model to predict weight from height.\n",
    "\n",
    "**After you've read, run, and understood the code, try to modify it as follows:**\n",
    "* Easy: predict height from weight\n",
    "* Easy: Add data normalization using a sklearn StandardScaler, as you learned in [the previous tutorial](DataAndTensors.ipynb). This should make optimization much faster because the initial neural network parameters are closer to optimal. **It's a good rule of thumb that a neural network's inputs should have approximately zero mean and unit standard deviation.**\n",
    "* Harder: Test how using a too complex network for simple data can lead to overfitting and nonsensical predictions. Use data normalization as above and only the 50 first datapoints of the dataset. Use a network with two 32-neuron ReLU layers. You can add the first layer as ```model.add(keras.layers.Dense(32,activation=\"relu\",input_shape=(1,)))``` and the next layers similarly, but without specifying the input_shape, which Keras can figure out by itself.\n",
    "\n",
    "Model solutions are provided in the same folder, but first try to solve the problem yourself, at least for a few minutes. *Think of this as a puzzle game with optional hints that you will check only if you have to.*"
   ]
  },
  {
   "cell_type": "markdown",
   "metadata": {},
   "source": [
    "Let's start by including the basic utilities. Now, we also need tensorflow in addition to numpy and pyplot. We also import Keras because it makes building and training basic neural networks easy.\n",
    "\n",
    "For a bit more complex but similar example, see https://www.tensorflow.org/tutorials/keras/basic_classification"
   ]
  },
  {
   "cell_type": "code",
   "execution_count": 1,
   "metadata": {
    "collapsed": true
   },
   "outputs": [],
   "source": [
    "import numpy as np\n",
    "import matplotlib.pyplot as pp\n",
    "import os\n",
    "os.environ[\"CUDA_VISIBLE_DEVICES\"]=\"-1\" #disable Tensorflow GPU usage, a simple example like this runs faster on CPU\n",
    "import tensorflow as tf\n",
    "from tensorflow import keras  \n",
    "from sklearn.preprocessing import StandardScaler"
   ]
  },
  {
   "cell_type": "markdown",
   "metadata": {},
   "source": [
    "Next we load the data and convert to metric system, similar to the previous tutorial."
   ]
  },
  {
   "cell_type": "code",
   "execution_count": 2,
   "metadata": {
    "collapsed": false
   },
   "outputs": [
    {
     "data": {
      "text/plain": [
       "Text(0, 0.5, 'Weight (kilograms)')"
      ]
     },
     "execution_count": 2,
     "metadata": {},
     "output_type": "execute_result"
    },
    {
     "data": {
      "image/png": "[encoded data removed]",
      "text/plain": [
       "<Figure size 432x288 with 1 Axes>"
      ]
     },
     "metadata": {
      "needs_background": "light"
     },
     "output_type": "display_data"
    }
   ],
   "source": [
    "data=np.loadtxt(\"../Datasets/weight-height.csv\",skiprows=1,usecols=(1,2),delimiter=\",\")\n",
    "data[:,0]*=2.54\n",
    "data[:,1]*=0.45359237\n",
    "pp.scatter(data[:,0],data[:,1],marker=\".\")\n",
    "pp.title(\"Relation of height and weight\")\n",
    "pp.xlabel(\"Height (centimeters)\")\n",
    "pp.ylabel(\"Weight (kilograms)\")"
   ]
  },
  {
   "cell_type": "markdown",
   "metadata": {},
   "source": [
    "To predict weight from height, we're going to need a machine learning model. We will first train a single-neuron network, i.e., a simple linear model. "
   ]
  },
  {
   "cell_type": "code",
   "execution_count": 3,
   "metadata": {
    "collapsed": false
   },
   "outputs": [
    {
     "name": "stdout",
     "output_type": "stream",
     "text": [
      "Epoch 1/5\n",
      "10000/10000 [==============================] - 1s 58us/step - loss: 3141.5882\b\b\b\b\b\b\b\b\b\b\b\b\b\b\b\b\b\b\b\b\b\b\b\b\b\b\b\b\b\b\b\b\b\b\b\b\b\b\b\b\b\b\b\b\b\b\b\b\b\b\b\b\b\b\b\b\b\b\b\b\b\b\b\b\b\b\b\b\b\b\b\b\b\b\b\b\b\b\b\b\b\b\b\b\b\b\b\b\b\b\b\b\b\b\b\b\b\b\b\b\b\b\b\b\b\b\b\b\b\b\b\b\b\b\b\b\b\b\b\b\b\b\b\b\b\b\b\b\b\b\b\b\b\b\b\b\b\b\b\b\b\b\b\b\b\b\b\b\b\b\b\b\b\b\b\b\b\b\b\b\b\b\b\b\b\b\b\b\b\b\b\b\b\b\b\b\b\b\b\b\b\b\b\b\b\b\b\b\b\b\b\b\b\b\b\b\b\b\b\b\b\b\b\b\b\b\b\b\b\b\b\b\b\b\b\b\b\b\b\b\b\b\b\b\b\b\b\b\b\b\b\b\b\b\b\b\b\b\b\b\b\b\b\b\b\b\b\b\b\b\b\b\b\b\b\b\b\b\b\b\b\b\b\b\b\b\b\b\b\b\b\b\b\b\b\b\b\b\b\b\b\b\b\b\b\b\b\b\b\b\b\b\b\b\b\b\b\b\b\b\b\b\b\b\b\b\b\b\b\b\b\b\b\b\b\b\b\b\b\b\b\b\b\b\b\b\b\b\b\b\b\b\b\b\b\b\b\b\b\b\b\b\b\b\b\b\b\b\b\b\b\b\b\b\b\b\b\b\b\b\b\b\b\b\n",
      "Epoch 2/5\n",
      "10000/10000 [==============================] - 0s 23us/step - loss: 118.0348\b\b\b\b\b\b\b\b\b\b\b\b\b\b\b\b\b\b\b\b\b\b\b\b\b\b\b\b\b\b\b\b\b\b\b\b\b\b\b\b\b\b\b\b\b\b\b\b\b\b\b\b\b\b\b\b\b\b\b\b\b\b\b\b\b\b\b\b\b\b\b\b\b\b\b\b\b\b\b\b\b\b\b\b\b\b\b\b\b\b\b\b\b\b\b\b\b\b\b\b\b\b\b\b\b\b\b\b\b\b\b\b\b\b\b\b\b\b\b\b\b\b\b\b\b\b\b\b\b\b\b\b\b\b\b\b\b\b\b\b\b\b\b\b\b\b\b\b\b\b\b\b\b\b\b\b\b\b\b\b\b\b\b\b\b\b\b\b\b\b\b\b\b\b\b\b\b\b\b\b\b\b\b\b\b\b\b\b\b\b\b\b\b\b\b\b\b\b\b\b\b\b\b\b\b\b\b\b\b\b\b\b\b\b\b\b\b\b\b\b\b\b\b\b\b\b\b\b\b\b\b\b\b\b\b\b\b\b\b\b\b\b\b\b\b\b\b\b\b\b\b\b\b\b\b\b\b\b\b\b\b\b\b\b\b\b\b\b\b\b\b\b\b\b\b\b\b\b\b\b\b\b\b\b\b\b\b\b\b\b\b\b\b\b\b\b\b\b\b\b\b\b\b\b\b\b\b\b\b\b\b\b\b\b\b\b\b\b\b\b\b\b\b\b\b\b\b\b\b\b\b\b\b\b\b\b\b\b\b\b\b\b\b\b\b\b\b\b\n",
      "Epoch 3/5\n",
      "10000/10000 [==============================] - 0s 22us/step - loss: 117.5025\b\b\b\b\b\b\b\b\b\b\b\b\b\b\b\b\b\b\b\b\b\b\b\b\b\b\b\b\b\b\b\b\b\b\b\b\b\b\b\b\b\b\b\b\b\b\b\b\b\b\b\b\b\b\b\b\b\b\b\b\b\b\b\b\b\b\b\b\b\b\b\b\b\b\b\b\b\b\b\b\b\b\b\b\b\b\b\b\b\b\b\b\b\b\b\b\b\b\b\b\b\b\b\b\b\b\b\b\b\b\b\b\b\b\b\b\b\b\b\b\b\b\b\b\b\b\b\b\b\b\b\b\b\b\b\b\b\b\b\b\b\b\b\b\b\b\b\b\b\b\b\b\b\b\b\b\b\b\b\b\b\b\b\b\b\b\b\b\b\b\b\b\b\b\b\b\b\b\b\b\b\b\b\b\b\b\b\b\b\b\b\b\b\b\b\b\b\b\b\b\b\b\b\b\b\b\b\b\b\b\b\b\b\b\b\b\b\b\b\b\b\b\b\b\b\b\b\b\b\b\b\b\b\b\b\b\b\b\b\b\b\b\b\b\b\b\b\b\b\b\b\b\b\b\b\b\b\b\b\b\b\b\b\b\b\b\b\b\b\b\b\b\b\b\b\b\b\b\b\b\b\b\b\b\b\b\b\b\b\b\b\b\b\b\b\b\b\b\b\b\b\b\b\b\b\b\b\b\b\b\b\b\b\b\b\b\b\b\b\b\b\b\b\b\b\b\b\b\b\b\b\b\b\b\b\b\b\b\b\b\b\b\b\b\b\b\b\b\n",
      "Epoch 4/5\n",
      "10000/10000 [==============================] - 0s 22us/step - loss: 116.8718\b\b\b\b\b\b\b\b\b\b\b\b\b\b\b\b\b\b\b\b\b\b\b\b\b\b\b\b\b\b\b\b\b\b\b\b\b\b\b\b\b\b\b\b\b\b\b\b\b\b\b\b\b\b\b\b\b\b\b\b\b\b\b\b\b\b\b\b\b\b\b\b\b\b\b\b\b\b\b\b\b\b\b\b\b\b\b\b\b\b\b\b\b\b\b\b\b\b\b\b\b\b\b\b\b\b\b\b\b\b\b\b\b\b\b\b\b\b\b\b\b\b\b\b\b\b\b\b\b\b\b\b\b\b\b\b\b\b\b\b\b\b\b\b\b\b\b\b\b\b\b\b\b\b\b\b\b\b\b\b\b\b\b\b\b\b\b\b\b\b\b\b\b\b\b\b\b\b\b\b\b\b\b\b\b\b\b\b\b\b\b\b\b\b\b\b\b\b\b\b\b\b\b\b\b\b\b\b\b\b\b\b\b\b\b\b\b\b\b\b\b\b\b\b\b\b\b\b\b\b\b\b\b\b\b\b\b\b\b\b\b\b\b\b\b\b\b\b\b\b\b\b\b\b\b\b\b\b\b\b\b\b\b\b\b\b\b\b\b\b\b\b\b\b\b\b\b\b\b\b\b\b\b\b\b\b\b\b\b\b\b\b\b\b\b\b\b\b\b\b\b\b\b\b\b\b\b\b\b\b\b\b\b\b\b\b\b\b\b\b\b\b\b\b\b\b\b\b\b\b\b\b\b\b\b\b\b\b\b\b\b\b\b\b\b\b\b\b\b\b\n",
      "Epoch 5/5\n",
      "10000/10000 [==============================] - 0s 23us/step - loss: 116.9353\b\b\b\b\b\b\b\b\b\b\b\b\b\b\b\b\b\b\b\b\b\b\b\b\b\b\b\b\b\b\b\b\b\b\b\b\b\b\b\b\b\b\b\b\b\b\b\b\b\b\b\b\b\b\b\b\b\b\b\b\b\b\b\b\b\b\b\b\b\b\b\b\b\b\b\b\b\b\b\b\b\b\b\b\b\b\b\b\b\b\b\b\b\b\b\b\b\b\b\b\b\b\b\b\b\b\b\b\b\b\b\b\b\b\b\b\b\b\b\b\b\b\b\b\b\b\b\b\b\b\b\b\b\b\b\b\b\b\b\b\b\b\b\b\b\b\b\b\b\b\b\b\b\b\b\b\b\b\b\b\b\b\b\b\b\b\b\b\b\b\b\b\b\b\b\b\b\b\b\b\b\b\b\b\b\b\b\b\b\b\b\b\b\b\b\b\b\b\b\b\b\b\b\b\b\b\b\b\b\b\b\b\b\b\b\b\b\b\b\b\b\b\b\b\b\b\b\b\b\b\b\b\b\b\b\b\b\b\b\b\b\b\b\b\b\b\b\b\b\b\b\b\b\b\b\b\b\b\b\b\b\b\b\b\b\b\b\b\b\b\b\b\b\b\b\b\b\b\b\b\b\b\b\b\b\b\b\b\b\b\b\b\b\b\b\b\b\b\b\b\b\b\b\b\b\b\b\b\b\b\b\b\b\b\b\b\b\b\b\b\b\b\b\b\b\b\b\b\b\b\b\b\b\b\b\b\b\b\b\b\b\b\b\b\b\b\b\b\b\b\n"
     ]
    },
    {
     "data": {
      "text/plain": [
       "<tensorflow.python.keras.callbacks.History at 0x1f04826ebe0>"
      ]
     },
     "execution_count": 3,
     "metadata": {},
     "output_type": "execute_result"
    }
   ],
   "source": [
    "#keras.Sequential makes it easy to compose a neural network models out of layers\n",
    "model = keras.Sequential()\n",
    "\n",
    "#Add a 1-neuron layer with linear activation, taking one input value. \n",
    "#The input_shape=(1,) defines that there's only a single input value, but batch size is yet unknown.\n",
    "#Note that this notation is a bit misleading, as the batch data index dimension is really the first one and not the second one.  \n",
    "#Fortunately, the input_shape needs to only be specified for the first layer\n",
    "model.add(keras.layers.Dense(1,input_shape=(1,),use_bias=True))\n",
    "\n",
    "#Make the model ready for optimization using Adam optimizer (the usual reasonable first guess).\n",
    "#The loss parameter defines the loss function that optimization tries to minimize, in this case\n",
    "#the mean squared error between the network outputs and actual data values.\n",
    "#The lr parameter is the \"learning rate\". With this simple model, we can use a high learning rate of 0.1,\n",
    "#whereas many complex networks require 0.001 or even 0.0001. This makes training more stable but also more slow.\n",
    "model.compile(optimizer=keras.optimizers.Adam(lr=0.1),loss=\"mean_squared_error\")\n",
    "\n",
    "#Define our training inputs and outputs. Our network takes in height (column 0 in the data) and outputs weight (column 1).\n",
    "trainingInputs=data[:,0]\n",
    "trainingOutputs=data[:,1]\n",
    "\n",
    "#Reshape the tensors: This is needed because Tensorflow and Keras models expect to get data in batches, as specified above.\n",
    "trainingInputs=np.reshape(trainingInputs,[trainingInputs.shape[0],1])\n",
    "trainingOutputs=np.reshape(trainingOutputs,[trainingOutputs.shape[0],1])\n",
    "\n",
    "#Fit the model. Epochs defines how many times the network will see all data during the training.\n",
    "model.fit(trainingInputs,trainingOutputs,verbose=1,epochs=5)\n"
   ]
  },
  {
   "cell_type": "markdown",
   "metadata": {},
   "source": [
    "Now, let's plot the data again, adding the model predictions."
   ]
  },
  {
   "cell_type": "code",
   "execution_count": 4,
   "metadata": {
    "collapsed": false
   },
   "outputs": [
    {
     "data": {
      "text/plain": [
       "<matplotlib.collections.PathCollection at 0x1f04b4f92e8>"
      ]
     },
     "execution_count": 4,
     "metadata": {},
     "output_type": "execute_result"
    },
    {
     "data": {
      "image/png": "[encoded data removed]",
      "text/plain": [
       "<Figure size 432x288 with 1 Axes>"
      ]
     },
     "metadata": {
      "needs_background": "light"
     },
     "output_type": "display_data"
    }
   ],
   "source": [
    "pp.figure(1)\n",
    "#pp.scatter(data[:,0],data[:,1],marker=\".\")\n",
    "pp.scatter(trainingInputs[:,0],trainingOutputs[:,0],marker=\".\")\n",
    "pp.title(\"Relation of height and weight\")\n",
    "pp.xlabel(\"Height (centimeters)\")\n",
    "pp.ylabel(\"Weight (kilograms)\")\n",
    "predictions=model.predict(trainingInputs)\n",
    "#NOTE: The predictions is of the same shape as trainingOutputs, i.e., [10000,1]\n",
    "#scatter() expects 1-dimensional x and y arrays; thus, we need to use the [:,0] and [:,1] indexing.\n",
    "pp.scatter(trainingInputs[:,0],predictions[:,0])"
   ]
  },
  {
   "cell_type": "markdown",
   "metadata": {},
   "source": [
    "What you should see above is a line that predicts growing weight with growing height, but it does not yet fit the data really well. However, the fit gets better when the training continues. Below, we optimize for 50 more epochs and then visualize again. "
   ]
  },
  {
   "cell_type": "code",
   "execution_count": 5,
   "metadata": {
    "collapsed": false
   },
   "outputs": [
    {
     "name": "stdout",
     "output_type": "stream",
     "text": [
      "Epoch 1/50\n",
      " - 0s - loss: 116.1579\n",
      "Epoch 2/50\n",
      " - 0s - loss: 115.1303\n",
      "Epoch 3/50\n",
      " - 0s - loss: 115.1751\n",
      "Epoch 4/50\n",
      " - 0s - loss: 113.1941\n",
      "Epoch 5/50\n",
      " - 0s - loss: 109.9967\n",
      "Epoch 6/50\n",
      " - 0s - loss: 108.3727\n",
      "Epoch 7/50\n",
      " - 0s - loss: 106.8890\n",
      "Epoch 8/50\n",
      " - 0s - loss: 103.8538\n",
      "Epoch 9/50\n",
      " - 0s - loss: 105.0448\n",
      "Epoch 10/50\n",
      " - 0s - loss: 99.5918\n",
      "Epoch 11/50\n",
      " - 0s - loss: 97.8635\n",
      "Epoch 12/50\n",
      " - 0s - loss: 96.8963\n",
      "Epoch 13/50\n",
      " - 0s - loss: 92.4651\n",
      "Epoch 14/50\n",
      " - 0s - loss: 89.7188\n",
      "Epoch 15/50\n",
      " - 0s - loss: 84.8930\n",
      "Epoch 16/50\n",
      " - 0s - loss: 84.1434\n",
      "Epoch 17/50\n",
      " - 0s - loss: 82.9965\n",
      "Epoch 18/50\n",
      " - 0s - loss: 76.7520\n",
      "Epoch 19/50\n",
      " - 0s - loss: 75.7143\n",
      "Epoch 20/50\n",
      " - 0s - loss: 72.2331\n",
      "Epoch 21/50\n",
      " - 0s - loss: 70.3519\n",
      "Epoch 22/50\n",
      " - 0s - loss: 68.2559\n",
      "Epoch 23/50\n",
      " - 0s - loss: 64.7568\n",
      "Epoch 24/50\n",
      " - 0s - loss: 67.2195\n",
      "Epoch 25/50\n",
      " - 0s - loss: 62.4785\n",
      "Epoch 26/50\n",
      " - 0s - loss: 59.9977\n",
      "Epoch 27/50\n",
      " - 0s - loss: 58.9645\n",
      "Epoch 28/50\n",
      " - 0s - loss: 58.3668\n",
      "Epoch 29/50\n",
      " - 0s - loss: 55.9734\n",
      "Epoch 30/50\n",
      " - 0s - loss: 53.6551\n",
      "Epoch 31/50\n",
      " - 0s - loss: 50.8450\n",
      "Epoch 32/50\n",
      " - 0s - loss: 50.9927\n",
      "Epoch 33/50\n",
      " - 0s - loss: 49.9296\n",
      "Epoch 34/50\n",
      " - 0s - loss: 48.1744\n",
      "Epoch 35/50\n",
      " - 0s - loss: 48.6130\n",
      "Epoch 36/50\n",
      " - 0s - loss: 47.8203\n",
      "Epoch 37/50\n",
      " - 0s - loss: 46.0977\n",
      "Epoch 38/50\n",
      " - 0s - loss: 45.1810\n",
      "Epoch 39/50\n",
      " - 0s - loss: 43.5706\n",
      "Epoch 40/50\n",
      " - 0s - loss: 41.7094\n",
      "Epoch 41/50\n",
      " - 0s - loss: 42.8280\n",
      "Epoch 42/50\n",
      " - 0s - loss: 41.2851\n",
      "Epoch 43/50\n",
      " - 0s - loss: 42.7137\n",
      "Epoch 44/50\n",
      " - 0s - loss: 41.3477\n",
      "Epoch 45/50\n",
      " - 0s - loss: 41.2143\n",
      "Epoch 46/50\n",
      " - 0s - loss: 39.2775\n",
      "Epoch 47/50\n",
      " - 0s - loss: 40.1640\n",
      "Epoch 48/50\n",
      " - 0s - loss: 38.4510\n",
      "Epoch 49/50\n",
      " - 0s - loss: 38.3436\n",
      "Epoch 50/50\n",
      " - 0s - loss: 38.1708\n"
     ]
    },
    {
     "data": {
      "text/plain": [
       "<matplotlib.collections.PathCollection at 0x1f04b53ce80>"
      ]
     },
     "execution_count": 5,
     "metadata": {},
     "output_type": "execute_result"
    },
    {
     "data": {
      "image/png": "[encoded data removed]",
      "text/plain": [
       "<Figure size 432x288 with 1 Axes>"
      ]
     },
     "metadata": {
      "needs_background": "light"
     },
     "output_type": "display_data"
    }
   ],
   "source": [
    "#fit the model\n",
    "model.fit(trainingInputs,trainingOutputs,verbose=2,epochs=50)  #we predict column 1 from column 0 \n",
    "\n",
    "#visualize the data\n",
    "pp.figure(1)\n",
    "pp.scatter(data[:,0],data[:,1],marker=\".\")\n",
    "pp.title(\"Relation of height and weight\")\n",
    "pp.xlabel(\"Height (centimeters)\")\n",
    "pp.ylabel(\"Weight (kilograms)\")\n",
    "predictions=model.predict(trainingInputs)\n",
    "pp.scatter(trainingInputs[:,0],predictions[:,0])"
   ]
  },
  {
   "cell_type": "markdown",
   "metadata": {},
   "source": [
    "Now, it's easy to query the model with any height values:"
   ]
  },
  {
   "cell_type": "code",
   "execution_count": 6,
   "metadata": {
    "collapsed": false
   },
   "outputs": [
    {
     "name": "stdout",
     "output_type": "stream",
     "text": [
      "The predicted weight for a person who weighs 200kg is  115.33539\n"
     ]
    }
   ],
   "source": [
    "print(\"The predicted weight for a person who weighs 200kg is \",model.predict([[200]])[0,0])"
   ]
  },
  {
   "cell_type": "markdown",
   "metadata": {},
   "source": [
    "Note that above, we had to use [[200]], because we only had one value to predict but the network wants a 2D tensor as input. [[200]] defines an array of shape [1,1] with the only element having indices [0,0] and value 200. Similarly, the prediction is a [1,1] shaped tensor, which we query with indices [0,0].\n",
    "\n",
    "**Unfortunately, this tensor indexing mess is one of the biggest hurdles in getting into ML coding. Don't worry, it's hard for everyone at first. Once you've wrapped your head around it, things will get much easier.**"
   ]
  },
  {
   "cell_type": "markdown",
   "metadata": {},
   "source": [
    "This simple data can be modeled using a 1-layer network without any nonlinear activation functions. Out of curiosity, let's see what happens when we use a multilayer network with ReLU activations. To see things in more detail, we also only use the first 50 data points."
   ]
  },
  {
   "cell_type": "code",
   "execution_count": 7,
   "metadata": {
    "collapsed": false
   },
   "outputs": [
    {
     "name": "stdout",
     "output_type": "stream",
     "text": [
      "Epoch 1/100\n",
      " - 0s - loss: 0.7131\n",
      "Epoch 2/100\n",
      " - 0s - loss: 0.4507\n",
      "Epoch 3/100\n",
      " - 0s - loss: 0.6833\n",
      "Epoch 4/100\n",
      " - 0s - loss: 0.3468\n",
      "Epoch 5/100\n",
      " - 0s - loss: 0.4652\n",
      "Epoch 6/100\n",
      " - 0s - loss: 0.3007\n",
      "Epoch 7/100\n",
      " - 0s - loss: 0.3505\n",
      "Epoch 8/100\n",
      " - 0s - loss: 0.3133\n",
      "Epoch 9/100\n",
      " - 0s - loss: 0.2784\n",
      "Epoch 10/100\n",
      " - 0s - loss: 0.2841\n",
      "Epoch 11/100\n",
      " - 0s - loss: 0.2613\n",
      "Epoch 12/100\n",
      " - 0s - loss: 0.2878\n",
      "Epoch 13/100\n",
      " - 0s - loss: 0.2700\n",
      "Epoch 14/100\n",
      " - 0s - loss: 0.2584\n",
      "Epoch 15/100\n",
      " - 0s - loss: 0.2663\n",
      "Epoch 16/100\n",
      " - 0s - loss: 0.2539\n",
      "Epoch 17/100\n",
      " - 0s - loss: 0.2613\n",
      "Epoch 18/100\n",
      " - 0s - loss: 0.2600\n",
      "Epoch 19/100\n",
      " - 0s - loss: 0.2423\n",
      "Epoch 20/100\n",
      " - 0s - loss: 0.2541\n",
      "Epoch 21/100\n",
      " - 0s - loss: 0.2395\n",
      "Epoch 22/100\n",
      " - 0s - loss: 0.2540\n",
      "Epoch 23/100\n",
      " - 0s - loss: 0.2510\n",
      "Epoch 24/100\n",
      " - 0s - loss: 0.2556\n",
      "Epoch 25/100\n",
      " - 0s - loss: 0.2483\n",
      "Epoch 26/100\n",
      " - 0s - loss: 0.2422\n",
      "Epoch 27/100\n",
      " - 0s - loss: 0.2517\n",
      "Epoch 28/100\n",
      " - 0s - loss: 0.2397\n",
      "Epoch 29/100\n",
      " - 0s - loss: 0.2612\n",
      "Epoch 30/100\n",
      " - 0s - loss: 0.2316\n",
      "Epoch 31/100\n",
      " - 0s - loss: 0.2570\n",
      "Epoch 32/100\n",
      " - 0s - loss: 0.2554\n",
      "Epoch 33/100\n",
      " - 0s - loss: 0.2387\n",
      "Epoch 34/100\n",
      " - 0s - loss: 0.2491\n",
      "Epoch 35/100\n",
      " - 0s - loss: 0.2391\n",
      "Epoch 36/100\n",
      " - 0s - loss: 0.2489\n",
      "Epoch 37/100\n",
      " - 0s - loss: 0.2586\n",
      "Epoch 38/100\n",
      " - 0s - loss: 0.2427\n",
      "Epoch 39/100\n",
      " - 0s - loss: 0.2334\n",
      "Epoch 40/100\n",
      " - 0s - loss: 0.2436\n",
      "Epoch 41/100\n",
      " - 0s - loss: 0.2441\n",
      "Epoch 42/100\n",
      " - 0s - loss: 0.2429\n",
      "Epoch 43/100\n",
      " - 0s - loss: 0.2332\n",
      "Epoch 44/100\n",
      " - 0s - loss: 0.2484\n",
      "Epoch 45/100\n",
      " - 0s - loss: 0.2441\n",
      "Epoch 46/100\n",
      " - 0s - loss: 0.2667\n",
      "Epoch 47/100\n",
      " - 0s - loss: 0.2471\n",
      "Epoch 48/100\n",
      " - 0s - loss: 0.2592\n",
      "Epoch 49/100\n",
      " - 0s - loss: 0.2972\n",
      "Epoch 50/100\n",
      " - 0s - loss: 0.2496\n",
      "Epoch 51/100\n",
      " - 0s - loss: 0.3197\n",
      "Epoch 52/100\n",
      " - 0s - loss: 0.2532\n",
      "Epoch 53/100\n",
      " - 0s - loss: 0.3091\n",
      "Epoch 54/100\n",
      " - 0s - loss: 0.3214\n",
      "Epoch 55/100\n",
      " - 0s - loss: 0.2953\n",
      "Epoch 56/100\n",
      " - 0s - loss: 0.2573\n",
      "Epoch 57/100\n",
      " - 0s - loss: 0.2672\n",
      "Epoch 58/100\n",
      " - 0s - loss: 0.2407\n",
      "Epoch 59/100\n",
      " - 0s - loss: 0.2553\n",
      "Epoch 60/100\n",
      " - 0s - loss: 0.2464\n",
      "Epoch 61/100\n",
      " - 0s - loss: 0.2458\n",
      "Epoch 62/100\n",
      " - 0s - loss: 0.2517\n",
      "Epoch 63/100\n",
      " - 0s - loss: 0.2389\n",
      "Epoch 64/100\n",
      " - 0s - loss: 0.2524\n",
      "Epoch 65/100\n",
      " - 0s - loss: 0.2500\n",
      "Epoch 66/100\n",
      " - 0s - loss: 0.2512\n",
      "Epoch 67/100\n",
      " - 0s - loss: 0.2539\n",
      "Epoch 68/100\n",
      " - 0s - loss: 0.2527\n",
      "Epoch 69/100\n",
      " - 0s - loss: 0.2517\n",
      "Epoch 70/100\n",
      " - 0s - loss: 0.2392\n",
      "Epoch 71/100\n",
      " - 0s - loss: 0.2362\n",
      "Epoch 72/100\n",
      " - 0s - loss: 0.2394\n",
      "Epoch 73/100\n",
      " - 0s - loss: 0.2420\n",
      "Epoch 74/100\n",
      " - 0s - loss: 0.2337\n",
      "Epoch 75/100\n",
      " - 0s - loss: 0.2573\n",
      "Epoch 76/100\n",
      " - 0s - loss: 0.2484\n",
      "Epoch 77/100\n",
      " - 0s - loss: 0.2413\n",
      "Epoch 78/100\n",
      " - 0s - loss: 0.2459\n",
      "Epoch 79/100\n",
      " - 0s - loss: 0.2584\n",
      "Epoch 80/100\n",
      " - 0s - loss: 0.2427\n",
      "Epoch 81/100\n",
      " - 0s - loss: 0.2631\n",
      "Epoch 82/100\n",
      " - 0s - loss: 0.2705\n",
      "Epoch 83/100\n",
      " - 0s - loss: 0.2323\n",
      "Epoch 84/100\n",
      " - 0s - loss: 0.2689\n",
      "Epoch 85/100\n",
      " - 0s - loss: 0.2421\n",
      "Epoch 86/100\n",
      " - 0s - loss: 0.2587\n",
      "Epoch 87/100\n",
      " - 0s - loss: 0.2553\n",
      "Epoch 88/100\n",
      " - 0s - loss: 0.2357\n",
      "Epoch 89/100\n",
      " - 0s - loss: 0.2549\n",
      "Epoch 90/100\n",
      " - 0s - loss: 0.2530\n",
      "Epoch 91/100\n",
      " - 0s - loss: 0.2430\n",
      "Epoch 92/100\n",
      " - 0s - loss: 0.2367\n",
      "Epoch 93/100\n",
      " - 0s - loss: 0.2435\n",
      "Epoch 94/100\n",
      " - 0s - loss: 0.2451\n",
      "Epoch 95/100\n",
      " - 0s - loss: 0.2342\n",
      "Epoch 96/100\n",
      " - 0s - loss: 0.2372\n",
      "Epoch 97/100\n",
      " - 0s - loss: 0.2496\n",
      "Epoch 98/100\n",
      " - 0s - loss: 0.2380\n",
      "Epoch 99/100\n",
      " - 0s - loss: 0.2331\n",
      "Epoch 100/100\n",
      " - 0s - loss: 0.2308\n"
     ]
    },
    {
     "data": {
      "text/plain": [
       "<tensorflow.python.keras.callbacks.History at 0x1f04b5a6e48>"
      ]
     },
     "execution_count": 7,
     "metadata": {},
     "output_type": "execute_result"
    }
   ],
   "source": [
    "data=data[:50]\n",
    "data-=np.mean(data,axis=0)\n",
    "data/=np.std(data,axis=0)\n",
    "model = keras.Sequential()\n",
    "#add a layer with 32 ReLU neurons\n",
    "model.add(keras.layers.Dense(32,activation=\"relu\",input_shape=(1,)))\n",
    "#add a layer with 32 ReLU neurons\n",
    "model.add(keras.layers.Dense(32,activation=\"relu\")\n",
    "#NOTE: we don't need to specify input_shape for others than the first layer. Keras can deduce it automatically.\n",
    "#add the output layer (1 neuron because only 1 predicted value)\n",
    "model.add(keras.layers.Dense(1))\n",
    "model.compile(optimizer=keras.optimizers.Adam(lr=0.1),loss=\"mean_squared_error\")\n",
    "\n",
    "#Define our training inputs and outputs. Our network takes in height (column 0 in the data) and outputs weight (column 1).\n",
    "trainingInputs=data[:,0]\n",
    "trainingOutputs=data[:,1]\n",
    "\n",
    "#Reshape the tensors: This is needed because Tensorflow and Keras models expect to get data in batches, as specified above.\n",
    "trainingInputs=np.reshape(trainingInputs,[trainingInputs.shape[0],1])\n",
    "trainingOutputs=np.reshape(trainingOutputs,[trainingOutputs.shape[0],1])\n",
    "\n",
    "#Fit the model. Epochs defines how many times the network will see all data during the training.\n",
    "model.fit(trainingInputs,trainingOutputs,verbose=2,epochs=100)\n"
   ]
  },
  {
   "cell_type": "code",
   "execution_count": 8,
   "metadata": {
    "collapsed": false
   },
   "outputs": [
    {
     "data": {
      "text/plain": [
       "<matplotlib.collections.PathCollection at 0x1f04ca64160>"
      ]
     },
     "execution_count": 8,
     "metadata": {},
     "output_type": "execute_result"
    },
    {
     "data": {
      "image/png": "[encoded data removed]",
      "text/plain": [
       "<Figure size 432x288 with 1 Axes>"
      ]
     },
     "metadata": {
      "needs_background": "light"
     },
     "output_type": "display_data"
    }
   ],
   "source": [
    "#Scatterplot both the data and the predictions\n",
    "pp.scatter(trainingInputs,trainingOutputs)\n",
    "predictions=model.predict(trainingInputs)\n",
    "pp.scatter(trainingInputs,predictions)"
   ]
  },
  {
   "cell_type": "code",
   "execution_count": null,
   "metadata": {
    "collapsed": true
   },
   "outputs": [],
   "source": []
  }
 ],
 "metadata": {
  "kernelspec": {
   "display_name": "tensorflow2env",
   "language": "python",
   "name": "tensorflow2env"
  },
  "language_info": {
   "codemirror_mode": {
    "name": "ipython",
    "version": 3
   },
   "file_extension": ".py",
   "mimetype": "text/x-python",
   "name": "python",
   "nbconvert_exporter": "python",
   "pygments_lexer": "ipython3",
   "version": "3.5.4"
  }
 },
 "nbformat": 4,
 "nbformat_minor": 2
}
